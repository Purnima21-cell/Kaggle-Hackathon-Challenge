{
 "cells": [
  {
   "cell_type": "code",
   "execution_count": 1,
   "metadata": {},
   "outputs": [],
   "source": [
    "# Import Library\n",
    "import numpy as np\n",
    "import pandas as pd\n",
    "import matplotlib.pyplot as plt\n",
    "import seaborn as sns"
   ]
  },
  {
   "cell_type": "code",
   "execution_count": 2,
   "metadata": {},
   "outputs": [],
   "source": [
    "df=pd.read_csv('simulation.csv')"
   ]
  },
  {
   "cell_type": "code",
   "execution_count": 3,
   "metadata": {},
   "outputs": [
    {
     "data": {
      "text/html": [
       "<div>\n",
       "<style scoped>\n",
       "    .dataframe tbody tr th:only-of-type {\n",
       "        vertical-align: middle;\n",
       "    }\n",
       "\n",
       "    .dataframe tbody tr th {\n",
       "        vertical-align: top;\n",
       "    }\n",
       "\n",
       "    .dataframe thead th {\n",
       "        text-align: right;\n",
       "    }\n",
       "</style>\n",
       "<table border=\"1\" class=\"dataframe\">\n",
       "  <thead>\n",
       "    <tr style=\"text-align: right;\">\n",
       "      <th></th>\n",
       "      <th>SalePrice</th>\n",
       "      <th>SaleDate</th>\n",
       "      <th>SaleDeed</th>\n",
       "      <th>ArmsLengthTransaction</th>\n",
       "      <th>EstimateLand</th>\n",
       "      <th>EstimateBuilding</th>\n",
       "      <th>MostRecentSale</th>\n",
       "      <th>Pin</th>\n",
       "      <th>PropertyAddress</th>\n",
       "      <th>NeighborhoodCode</th>\n",
       "      <th>...</th>\n",
       "      <th>RepairCondition</th>\n",
       "      <th>GarageIndicator</th>\n",
       "      <th>Garage1Size</th>\n",
       "      <th>Garage1Material</th>\n",
       "      <th>Garage1Attachment</th>\n",
       "      <th>Garage1Area</th>\n",
       "      <th>Garage2Size</th>\n",
       "      <th>Garage2Material</th>\n",
       "      <th>Garage2Attachment</th>\n",
       "      <th>Garage2Area</th>\n",
       "    </tr>\n",
       "  </thead>\n",
       "  <tbody>\n",
       "    <tr>\n",
       "      <th>0</th>\n",
       "      <td>407000</td>\n",
       "      <td>09/17/2013</td>\n",
       "      <td>1326022056</td>\n",
       "      <td>1</td>\n",
       "      <td>55800</td>\n",
       "      <td>80200</td>\n",
       "      <td>1.0</td>\n",
       "      <td>13013260100000</td>\n",
       "      <td>5627 N RICHMOND ST</td>\n",
       "      <td>42</td>\n",
       "      <td>...</td>\n",
       "      <td>Avg</td>\n",
       "      <td>1.0</td>\n",
       "      <td>3.0</td>\n",
       "      <td>Wood</td>\n",
       "      <td>No</td>\n",
       "      <td>No</td>\n",
       "      <td>7.0</td>\n",
       "      <td>Other</td>\n",
       "      <td>Other</td>\n",
       "      <td>Other1</td>\n",
       "    </tr>\n",
       "    <tr>\n",
       "      <th>1</th>\n",
       "      <td>1</td>\n",
       "      <td>05/08/2017</td>\n",
       "      <td>1712801037</td>\n",
       "      <td>0</td>\n",
       "      <td>30620</td>\n",
       "      <td>34480</td>\n",
       "      <td>1.0</td>\n",
       "      <td>14061120241008</td>\n",
       "      <td>6116 N CLAREMONT AVE</td>\n",
       "      <td>11</td>\n",
       "      <td>...</td>\n",
       "      <td>NaN</td>\n",
       "      <td>NaN</td>\n",
       "      <td>NaN</td>\n",
       "      <td>NaN</td>\n",
       "      <td>NaN</td>\n",
       "      <td>NaN</td>\n",
       "      <td>NaN</td>\n",
       "      <td>NaN</td>\n",
       "      <td>NaN</td>\n",
       "      <td>NaN</td>\n",
       "    </tr>\n",
       "    <tr>\n",
       "      <th>2</th>\n",
       "      <td>340000</td>\n",
       "      <td>07/17/2013</td>\n",
       "      <td>1319841023</td>\n",
       "      <td>1</td>\n",
       "      <td>8490</td>\n",
       "      <td>253800</td>\n",
       "      <td>0.0</td>\n",
       "      <td>14213140481165</td>\n",
       "      <td>3200 N LAKE SHORE DR</td>\n",
       "      <td>62</td>\n",
       "      <td>...</td>\n",
       "      <td>NaN</td>\n",
       "      <td>NaN</td>\n",
       "      <td>NaN</td>\n",
       "      <td>NaN</td>\n",
       "      <td>NaN</td>\n",
       "      <td>NaN</td>\n",
       "      <td>NaN</td>\n",
       "      <td>NaN</td>\n",
       "      <td>NaN</td>\n",
       "      <td>NaN</td>\n",
       "    </tr>\n",
       "    <tr>\n",
       "      <th>3</th>\n",
       "      <td>89000</td>\n",
       "      <td>06/29/2018</td>\n",
       "      <td>1818057130</td>\n",
       "      <td>1</td>\n",
       "      <td>23760</td>\n",
       "      <td>124690</td>\n",
       "      <td>1.0</td>\n",
       "      <td>24362310030000</td>\n",
       "      <td>2449 NEW ST</td>\n",
       "      <td>132</td>\n",
       "      <td>...</td>\n",
       "      <td>Avg</td>\n",
       "      <td>1.0</td>\n",
       "      <td>3.0</td>\n",
       "      <td>Wood</td>\n",
       "      <td>No</td>\n",
       "      <td>No</td>\n",
       "      <td>7.0</td>\n",
       "      <td>Other</td>\n",
       "      <td>Other</td>\n",
       "      <td>Other1</td>\n",
       "    </tr>\n",
       "    <tr>\n",
       "      <th>4</th>\n",
       "      <td>375000</td>\n",
       "      <td>09/24/2014</td>\n",
       "      <td>1426755105</td>\n",
       "      <td>1</td>\n",
       "      <td>59850</td>\n",
       "      <td>253540</td>\n",
       "      <td>1.0</td>\n",
       "      <td>16081150120000</td>\n",
       "      <td>229 N TAYLOR AVE</td>\n",
       "      <td>90</td>\n",
       "      <td>...</td>\n",
       "      <td>Avg</td>\n",
       "      <td>1.0</td>\n",
       "      <td>3.0</td>\n",
       "      <td>Wood</td>\n",
       "      <td>No</td>\n",
       "      <td>No</td>\n",
       "      <td>7.0</td>\n",
       "      <td>Other</td>\n",
       "      <td>Other</td>\n",
       "      <td>Other1</td>\n",
       "    </tr>\n",
       "  </tbody>\n",
       "</table>\n",
       "<p>5 rows × 64 columns</p>\n",
       "</div>"
      ],
      "text/plain": [
       "   SalePrice    SaleDate    SaleDeed  ArmsLengthTransaction  EstimateLand  \\\n",
       "0     407000  09/17/2013  1326022056                      1         55800   \n",
       "1          1  05/08/2017  1712801037                      0         30620   \n",
       "2     340000  07/17/2013  1319841023                      1          8490   \n",
       "3      89000  06/29/2018  1818057130                      1         23760   \n",
       "4     375000  09/24/2014  1426755105                      1         59850   \n",
       "\n",
       "   EstimateBuilding  MostRecentSale             Pin       PropertyAddress  \\\n",
       "0             80200             1.0  13013260100000    5627 N RICHMOND ST   \n",
       "1             34480             1.0  14061120241008  6116 N CLAREMONT AVE   \n",
       "2            253800             0.0  14213140481165  3200 N LAKE SHORE DR   \n",
       "3            124690             1.0  24362310030000           2449 NEW ST   \n",
       "4            253540             1.0  16081150120000      229 N TAYLOR AVE   \n",
       "\n",
       "   NeighborhoodCode  ... RepairCondition GarageIndicator  Garage1Size  \\\n",
       "0                42  ...             Avg             1.0          3.0   \n",
       "1                11  ...             NaN             NaN          NaN   \n",
       "2                62  ...             NaN             NaN          NaN   \n",
       "3               132  ...             Avg             1.0          3.0   \n",
       "4                90  ...             Avg             1.0          3.0   \n",
       "\n",
       "   Garage1Material  Garage1Attachment  Garage1Area  Garage2Size  \\\n",
       "0             Wood                 No           No          7.0   \n",
       "1              NaN                NaN          NaN          NaN   \n",
       "2              NaN                NaN          NaN          NaN   \n",
       "3             Wood                 No           No          7.0   \n",
       "4             Wood                 No           No          7.0   \n",
       "\n",
       "   Garage2Material Garage2Attachment  Garage2Area  \n",
       "0            Other             Other       Other1  \n",
       "1              NaN               NaN          NaN  \n",
       "2              NaN               NaN          NaN  \n",
       "3            Other             Other       Other1  \n",
       "4            Other             Other       Other1  \n",
       "\n",
       "[5 rows x 64 columns]"
      ]
     },
     "execution_count": 3,
     "metadata": {},
     "output_type": "execute_result"
    }
   ],
   "source": [
    "df.head()"
   ]
  },
  {
   "cell_type": "code",
   "execution_count": 4,
   "metadata": {},
   "outputs": [
    {
     "data": {
      "text/plain": [
       "SalePrice                     0\n",
       "SaleDate                      0\n",
       "SaleDeed                      0\n",
       "ArmsLengthTransaction         0\n",
       "EstimateLand                  0\n",
       "                          ...  \n",
       "Garage1Area              121404\n",
       "Garage2Size              121404\n",
       "Garage2Material          121404\n",
       "Garage2Attachment        121404\n",
       "Garage2Area              121801\n",
       "Length: 64, dtype: int64"
      ]
     },
     "execution_count": 4,
     "metadata": {},
     "output_type": "execute_result"
    }
   ],
   "source": [
    "# To see the no. of missing values\n",
    "df.isnull().sum()"
   ]
  },
  {
   "cell_type": "code",
   "execution_count": 5,
   "metadata": {},
   "outputs": [
    {
     "data": {
      "text/plain": [
       "<matplotlib.axes._subplots.AxesSubplot at 0x1127163c940>"
      ]
     },
     "execution_count": 5,
     "metadata": {},
     "output_type": "execute_result"
    },
    {
     "data": {
      "image/png": "[encoded data removed]",
      "text/plain": [
       "<Figure size 432x288 with 1 Axes>"
      ]
     },
     "metadata": {
      "needs_background": "light"
     },
     "output_type": "display_data"
    }
   ],
   "source": [
    "# To see null values with the help of heatmap\n",
    "# White lines shown missing values\n",
    "sns.heatmap(df.isnull(),yticklabels=False,cbar=False)"
   ]
  },
  {
   "cell_type": "code",
   "execution_count": 6,
   "metadata": {},
   "outputs": [
    {
     "data": {
      "text/plain": [
       "(408359, 64)"
      ]
     },
     "execution_count": 6,
     "metadata": {},
     "output_type": "execute_result"
    }
   ],
   "source": [
    "df.shape"
   ]
  },
  {
   "cell_type": "code",
   "execution_count": 7,
   "metadata": {},
   "outputs": [
    {
     "name": "stdout",
     "output_type": "stream",
     "text": [
      "<class 'pandas.core.frame.DataFrame'>\n",
      "RangeIndex: 408359 entries, 0 to 408358\n",
      "Data columns (total 64 columns):\n",
      " #   Column                   Non-Null Count   Dtype  \n",
      "---  ------                   --------------   -----  \n",
      " 0   SalePrice                408359 non-null  int64  \n",
      " 1   SaleDate                 408359 non-null  object \n",
      " 2   SaleDeed                 408359 non-null  int64  \n",
      " 3   ArmsLengthTransaction    408359 non-null  int64  \n",
      " 4   EstimateLand             408359 non-null  int64  \n",
      " 5   EstimateBuilding         408359 non-null  int64  \n",
      " 6   MostRecentSale           408095 non-null  float64\n",
      " 7   Pin                      408359 non-null  int64  \n",
      " 8   PropertyAddress          405206 non-null  object \n",
      " 9   NeighborhoodCode         408359 non-null  int64  \n",
      " 10  TownshipLocation         408359 non-null  object \n",
      " 11  TownshipName             408359 non-null  object \n",
      " 12  Longitude                403078 non-null  float64\n",
      " 13  Latitude                 403078 non-null  float64\n",
      " 14  OHareNoise               403078 non-null  float64\n",
      " 15  Floodplain               403078 non-null  float64\n",
      " 16  RoadProximity            403078 non-null  float64\n",
      " 17  CensusTract              403078 non-null  float64\n",
      " 18  PropertyDesc             408359 non-null  object \n",
      " 19  Apartments               286955 non-null  float64\n",
      " 20  Age                      408359 non-null  int64  \n",
      " 21  TypeOfResidence          286954 non-null  float64\n",
      " 22  MultiPropertyIndicator   408359 non-null  int64  \n",
      " 23  MultiFamilyIndicator     408359 non-null  int64  \n",
      " 24  MultiCode                286955 non-null  float64\n",
      " 25  NumberOfCommercialUnits  286955 non-null  float64\n",
      " 26  LandSquareFeet           408359 non-null  float64\n",
      " 27  BuildingSquareFeet       286955 non-null  float64\n",
      " 28  CDU                      32991 non-null   object \n",
      " 29  SiteDesirability         286954 non-null  float64\n",
      " 30  CondoNumberOfUnits       121405 non-null  float64\n",
      " 31  CondoPercentOwnership    122277 non-null  float64\n",
      " 32  CondoStrata              27478 non-null   float64\n",
      " 33  CondoBuildingSquareFeet  5938 non-null    float64\n",
      " 34  Rooms                    286954 non-null  float64\n",
      " 35  Bedrooms                 286954 non-null  float64\n",
      " 36  FullBaths                286955 non-null  float64\n",
      " 37  HalfBaths                286955 non-null  float64\n",
      " 38  Basement                 286954 non-null  object \n",
      " 39  BasementFinish           286952 non-null  object \n",
      " 40  CentralHeating           286010 non-null  object \n",
      " 41  OtherHeating             286955 non-null  object \n",
      " 42  CentralAir               286955 non-null  float64\n",
      " 43  Fireplaces               286955 non-null  float64\n",
      " 44  AtticType                286955 non-null  object \n",
      " 45  AtticFinish              93718 non-null   object \n",
      " 46  WallMaterial             286954 non-null  object \n",
      " 47  RoofMaterial             286954 non-null  object \n",
      " 48  CathedralCeiling         286955 non-null  object \n",
      " 49  DesignPlan               286955 non-null  object \n",
      " 50  ConstructionQuality      286954 non-null  object \n",
      " 51  Renovation               569 non-null     object \n",
      " 52  Porch                    408359 non-null  object \n",
      " 53  OtherImprovements        286955 non-null  float64\n",
      " 54  RepairCondition          286954 non-null  object \n",
      " 55  GarageIndicator          286955 non-null  float64\n",
      " 56  Garage1Size              286955 non-null  float64\n",
      " 57  Garage1Material          286955 non-null  object \n",
      " 58  Garage1Attachment        286955 non-null  object \n",
      " 59  Garage1Area              286955 non-null  object \n",
      " 60  Garage2Size              286955 non-null  float64\n",
      " 61  Garage2Material          286955 non-null  object \n",
      " 62  Garage2Attachment        286955 non-null  object \n",
      " 63  Garage2Area              286558 non-null  object \n",
      "dtypes: float64(28), int64(10), object(26)\n",
      "memory usage: 199.4+ MB\n"
     ]
    }
   ],
   "source": [
    "df.info()"
   ]
  },
  {
   "cell_type": "code",
   "execution_count": 8,
   "metadata": {},
   "outputs": [],
   "source": [
    "# To fill missing values\n",
    "df['MultiCode']=df['MultiCode'].fillna(df['MultiCode'].mean())\n",
    "df['Rooms']=df['Rooms'].fillna(df['Rooms'].mean())\n",
    "df['FullBaths']=df['FullBaths'].fillna(df['FullBaths'].mean())\n",
    "df['CentralAir']=df['CentralAir'].fillna(df['CentralAir'].mean())\n",
    "df['Garage1Size']=df['Garage1Size'].fillna(df['Garage1Size'].mean())\n",
    "df['Garage2Size']=df['Garage2Size'].fillna(df['Garage2Size'].mean())"
   ]
  },
  {
   "cell_type": "code",
   "execution_count": 9,
   "metadata": {},
   "outputs": [],
   "source": [
    "df['Basement']=df['Basement'].fillna(df['Basement'].mode()[0])\n",
    "df['CentralHeating']=df['CentralHeating'].fillna(df['CentralHeating'].mode()[0])\n",
    "df['AtticType']=df['AtticType'].fillna(df['AtticType'].mode()[0])\n",
    "df['WallMaterial']=df['WallMaterial'].fillna(df['WallMaterial'].mode()[0])\n",
    "df['CathedralCeiling']=df['CathedralCeiling'].fillna(df['CathedralCeiling'].mode()[0])\n",
    "df['ConstructionQuality']=df['ConstructionQuality'].fillna(df['ConstructionQuality'].mode()[0])\n",
    "df['RepairCondition']=df['RepairCondition'].fillna(df['RepairCondition'].mode()[0])\n",
    "df['Garage1Attachment']=df['Garage1Attachment'].fillna(df['Garage1Attachment'].mode()[0])\n",
    "df['Garage2Attachment']=df['Garage2Attachment'].fillna(df['Garage2Attachment'].mode()[0])"
   ]
  },
  {
   "cell_type": "code",
   "execution_count": 10,
   "metadata": {},
   "outputs": [],
   "source": [
    "df.drop(['CDU'],axis=1,inplace=True)\n",
    "df.drop(['CondoNumberOfUnits'],axis=1,inplace=True)\n",
    "df.drop(['CondoStrata'],axis=1,inplace=True)\n",
    "df.drop(['SaleDate'],axis=1,inplace=True)\n",
    "df.drop(['SaleDeed'],axis=1,inplace=True)\n",
    "df.drop(['PropertyAddress'],axis=1,inplace=True)\n",
    "df.drop(['Pin'],axis=1,inplace=True)"
   ]
  },
  {
   "cell_type": "code",
   "execution_count": 11,
   "metadata": {},
   "outputs": [
    {
     "data": {
      "text/plain": [
       "<matplotlib.axes._subplots.AxesSubplot at 0x11207e01d00>"
      ]
     },
     "execution_count": 11,
     "metadata": {},
     "output_type": "execute_result"
    },
    {
     "data": {
      "image/png": "[encoded data removed]",
      "text/plain": [
       "<Figure size 432x288 with 1 Axes>"
      ]
     },
     "metadata": {
      "needs_background": "light"
     },
     "output_type": "display_data"
    }
   ],
   "source": [
    "sns.heatmap(df.isnull(),yticklabels=False,cbar=False)"
   ]
  },
  {
   "cell_type": "code",
   "execution_count": 12,
   "metadata": {},
   "outputs": [],
   "source": [
    "df.drop(['Renovation'],axis=1,inplace=True)\n",
    "df.drop(['AtticFinish'],axis=1,inplace=True)\n",
    "df.drop(['CondoBuildingSquareFeet'],axis=1,inplace=True)"
   ]
  },
  {
   "cell_type": "code",
   "execution_count": 13,
   "metadata": {},
   "outputs": [
    {
     "data": {
      "text/plain": [
       "<matplotlib.axes._subplots.AxesSubplot at 0x11207127c70>"
      ]
     },
     "execution_count": 13,
     "metadata": {},
     "output_type": "execute_result"
    },
    {
     "data": {
      "image/png": "[encoded data removed]",
      "text/plain": [
       "<Figure size 432x288 with 1 Axes>"
      ]
     },
     "metadata": {
      "needs_background": "light"
     },
     "output_type": "display_data"
    }
   ],
   "source": [
    "sns.heatmap(df.isnull(),yticklabels=False,cbar=False)"
   ]
  },
  {
   "cell_type": "code",
   "execution_count": 14,
   "metadata": {},
   "outputs": [],
   "source": [
    "df['SiteDesirability']=df['SiteDesirability'].fillna(df['SiteDesirability'].mean())"
   ]
  },
  {
   "cell_type": "code",
   "execution_count": 15,
   "metadata": {},
   "outputs": [],
   "source": [
    "df['DesignPlan']=df['DesignPlan'].fillna(df['DesignPlan'].mode()[0])\n",
    "df['RoofMaterial']=df['RoofMaterial'].fillna(df['RoofMaterial'].mode()[0])"
   ]
  },
  {
   "cell_type": "code",
   "execution_count": 16,
   "metadata": {},
   "outputs": [
    {
     "data": {
      "text/plain": [
       "<matplotlib.axes._subplots.AxesSubplot at 0x11207027df0>"
      ]
     },
     "execution_count": 16,
     "metadata": {},
     "output_type": "execute_result"
    },
    {
     "data": {
      "image/png": "[encoded data removed]",
      "text/plain": [
       "<Figure size 432x288 with 1 Axes>"
      ]
     },
     "metadata": {
      "needs_background": "light"
     },
     "output_type": "display_data"
    }
   ],
   "source": [
    "sns.heatmap(df.isnull(),yticklabels=False,cbar=False)"
   ]
  },
  {
   "cell_type": "code",
   "execution_count": 17,
   "metadata": {},
   "outputs": [
    {
     "data": {
      "text/plain": [
       "(408359, 54)"
      ]
     },
     "execution_count": 17,
     "metadata": {},
     "output_type": "execute_result"
    }
   ],
   "source": [
    "df.shape"
   ]
  },
  {
   "cell_type": "code",
   "execution_count": 18,
   "metadata": {},
   "outputs": [
    {
     "data": {
      "text/plain": [
       "SalePrice                       0\n",
       "ArmsLengthTransaction           0\n",
       "EstimateLand                    0\n",
       "EstimateBuilding                0\n",
       "MostRecentSale                264\n",
       "NeighborhoodCode                0\n",
       "TownshipLocation                0\n",
       "TownshipName                    0\n",
       "Longitude                    5281\n",
       "Latitude                     5281\n",
       "OHareNoise                   5281\n",
       "Floodplain                   5281\n",
       "RoadProximity                5281\n",
       "CensusTract                  5281\n",
       "PropertyDesc                    0\n",
       "Apartments                 121404\n",
       "Age                             0\n",
       "TypeOfResidence            121405\n",
       "MultiPropertyIndicator          0\n",
       "MultiFamilyIndicator            0\n",
       "MultiCode                       0\n",
       "NumberOfCommercialUnits    121404\n",
       "LandSquareFeet                  0\n",
       "BuildingSquareFeet         121404\n",
       "SiteDesirability                0\n",
       "CondoPercentOwnership      286082\n",
       "Rooms                           0\n",
       "Bedrooms                   121405\n",
       "FullBaths                       0\n",
       "HalfBaths                  121404\n",
       "Basement                        0\n",
       "BasementFinish             121407\n",
       "CentralHeating                  0\n",
       "OtherHeating               121404\n",
       "CentralAir                      0\n",
       "Fireplaces                 121404\n",
       "AtticType                       0\n",
       "WallMaterial                    0\n",
       "RoofMaterial                    0\n",
       "CathedralCeiling                0\n",
       "DesignPlan                      0\n",
       "ConstructionQuality             0\n",
       "Porch                           0\n",
       "OtherImprovements          121404\n",
       "RepairCondition                 0\n",
       "GarageIndicator            121404\n",
       "Garage1Size                     0\n",
       "Garage1Material            121404\n",
       "Garage1Attachment               0\n",
       "Garage1Area                121404\n",
       "Garage2Size                     0\n",
       "Garage2Material            121404\n",
       "Garage2Attachment               0\n",
       "Garage2Area                121801\n",
       "dtype: int64"
      ]
     },
     "execution_count": 18,
     "metadata": {},
     "output_type": "execute_result"
    }
   ],
   "source": [
    "df.isnull().sum()"
   ]
  },
  {
   "cell_type": "code",
   "execution_count": 19,
   "metadata": {},
   "outputs": [],
   "source": [
    "# To fill missing values\n",
    "df['MostRecentSale']=df['MostRecentSale'].fillna(df['MostRecentSale'].mean())\n",
    "df['Longitude']=df['Longitude'].fillna(df['Longitude'].mean())\n",
    "df['Latitude']=df['Latitude'].fillna(df['Latitude'].mean())\n",
    "df['OHareNoise']=df['OHareNoise'].fillna(df['OHareNoise'].mean())\n",
    "df['Floodplain']=df['Floodplain'].fillna(df['Floodplain'].mean())\n",
    "df['RoadProximity']=df['RoadProximity'].fillna(df['RoadProximity'].mean())\n",
    "df['CensusTract']=df['CensusTract'].fillna(df['CensusTract'].mean())\n",
    "df['Apartments']=df['Apartments'].fillna(df['Apartments'].mean())\n",
    "df['TypeOfResidence']=df['TypeOfResidence'].fillna(df['TypeOfResidence'].mean())\n",
    "df['NumberOfCommercialUnits']=df['NumberOfCommercialUnits'].fillna(df['NumberOfCommercialUnits'].mean())\n",
    "df['BuildingSquareFeet']=df['BuildingSquareFeet'].fillna(df['BuildingSquareFeet'].mean())\n",
    "df['CondoPercentOwnership']=df['CondoPercentOwnership'].fillna(df['CondoPercentOwnership'].mean())\n",
    "df['Bedrooms']=df['Bedrooms'].fillna(df['Bedrooms'].mean())\n",
    "df['HalfBaths']=df['HalfBaths'].fillna(df['HalfBaths'].mean())\n",
    "df['Fireplaces']=df['Fireplaces'].fillna(df['Fireplaces'].mean())\n",
    "df['OtherImprovements']=df['OtherImprovements'].fillna(df['OtherImprovements'].mean())\n",
    "df['GarageIndicator']=df['GarageIndicator'].fillna(df['GarageIndicator'].mean())"
   ]
  },
  {
   "cell_type": "code",
   "execution_count": 21,
   "metadata": {},
   "outputs": [],
   "source": [
    "df['BasementFinish']=df['BasementFinish'].fillna(df['BasementFinish'].mode()[0])\n",
    "df['OtherHeating']=df['OtherHeating'].fillna(df['OtherHeating'].mode()[0])\n",
    "df['Garage1Material']=df['Garage1Material'].fillna(df['Garage1Material'].mode()[0])\n",
    "df['Garage1Area']=df['Garage1Area'].fillna(df['Garage1Area'].mode()[0])\n",
    "df['Garage2Material']=df['Garage2Material'].fillna(df['Garage2Material'].mode()[0])\n",
    "df['Garage2Area']=df['Garage2Area'].fillna(df['Garage2Area'].mode()[0])"
   ]
  },
  {
   "cell_type": "code",
   "execution_count": 22,
   "metadata": {},
   "outputs": [
    {
     "data": {
      "text/plain": [
       "SalePrice                  0\n",
       "ArmsLengthTransaction      0\n",
       "EstimateLand               0\n",
       "EstimateBuilding           0\n",
       "MostRecentSale             0\n",
       "NeighborhoodCode           0\n",
       "TownshipLocation           0\n",
       "TownshipName               0\n",
       "Longitude                  0\n",
       "Latitude                   0\n",
       "OHareNoise                 0\n",
       "Floodplain                 0\n",
       "RoadProximity              0\n",
       "CensusTract                0\n",
       "PropertyDesc               0\n",
       "Apartments                 0\n",
       "Age                        0\n",
       "TypeOfResidence            0\n",
       "MultiPropertyIndicator     0\n",
       "MultiFamilyIndicator       0\n",
       "MultiCode                  0\n",
       "NumberOfCommercialUnits    0\n",
       "LandSquareFeet             0\n",
       "BuildingSquareFeet         0\n",
       "SiteDesirability           0\n",
       "CondoPercentOwnership      0\n",
       "Rooms                      0\n",
       "Bedrooms                   0\n",
       "FullBaths                  0\n",
       "HalfBaths                  0\n",
       "Basement                   0\n",
       "BasementFinish             0\n",
       "CentralHeating             0\n",
       "OtherHeating               0\n",
       "CentralAir                 0\n",
       "Fireplaces                 0\n",
       "AtticType                  0\n",
       "WallMaterial               0\n",
       "RoofMaterial               0\n",
       "CathedralCeiling           0\n",
       "DesignPlan                 0\n",
       "ConstructionQuality        0\n",
       "Porch                      0\n",
       "OtherImprovements          0\n",
       "RepairCondition            0\n",
       "GarageIndicator            0\n",
       "Garage1Size                0\n",
       "Garage1Material            0\n",
       "Garage1Attachment          0\n",
       "Garage1Area                0\n",
       "Garage2Size                0\n",
       "Garage2Material            0\n",
       "Garage2Attachment          0\n",
       "Garage2Area                0\n",
       "dtype: int64"
      ]
     },
     "execution_count": 22,
     "metadata": {},
     "output_type": "execute_result"
    }
   ],
   "source": [
    "df.isnull().sum()"
   ]
  },
  {
   "cell_type": "code",
   "execution_count": 23,
   "metadata": {},
   "outputs": [
    {
     "data": {
      "text/plain": [
       "<matplotlib.axes._subplots.AxesSubplot at 0x1120713fe20>"
      ]
     },
     "execution_count": 23,
     "metadata": {},
     "output_type": "execute_result"
    },
    {
     "data": {
      "image/png": "[encoded data removed]",
      "text/plain": [
       "<Figure size 432x288 with 1 Axes>"
      ]
     },
     "metadata": {
      "needs_background": "light"
     },
     "output_type": "display_data"
    }
   ],
   "source": [
    "sns.heatmap(df.isnull(),yticklabels=False,cbar=False)"
   ]
  },
  {
   "cell_type": "code",
   "execution_count": 24,
   "metadata": {},
   "outputs": [
    {
     "data": {
      "text/plain": [
       "(408359, 54)"
      ]
     },
     "execution_count": 24,
     "metadata": {},
     "output_type": "execute_result"
    }
   ],
   "source": [
    "df.shape"
   ]
  },
  {
   "cell_type": "code",
   "execution_count": 25,
   "metadata": {},
   "outputs": [
    {
     "data": {
      "text/html": [
       "<div>\n",
       "<style scoped>\n",
       "    .dataframe tbody tr th:only-of-type {\n",
       "        vertical-align: middle;\n",
       "    }\n",
       "\n",
       "    .dataframe tbody tr th {\n",
       "        vertical-align: top;\n",
       "    }\n",
       "\n",
       "    .dataframe thead th {\n",
       "        text-align: right;\n",
       "    }\n",
       "</style>\n",
       "<table border=\"1\" class=\"dataframe\">\n",
       "  <thead>\n",
       "    <tr style=\"text-align: right;\">\n",
       "      <th></th>\n",
       "      <th>SalePrice</th>\n",
       "      <th>ArmsLengthTransaction</th>\n",
       "      <th>EstimateLand</th>\n",
       "      <th>EstimateBuilding</th>\n",
       "      <th>MostRecentSale</th>\n",
       "      <th>NeighborhoodCode</th>\n",
       "      <th>TownshipLocation</th>\n",
       "      <th>TownshipName</th>\n",
       "      <th>Longitude</th>\n",
       "      <th>Latitude</th>\n",
       "      <th>...</th>\n",
       "      <th>RepairCondition</th>\n",
       "      <th>GarageIndicator</th>\n",
       "      <th>Garage1Size</th>\n",
       "      <th>Garage1Material</th>\n",
       "      <th>Garage1Attachment</th>\n",
       "      <th>Garage1Area</th>\n",
       "      <th>Garage2Size</th>\n",
       "      <th>Garage2Material</th>\n",
       "      <th>Garage2Attachment</th>\n",
       "      <th>Garage2Area</th>\n",
       "    </tr>\n",
       "  </thead>\n",
       "  <tbody>\n",
       "    <tr>\n",
       "      <th>0</th>\n",
       "      <td>407000</td>\n",
       "      <td>1</td>\n",
       "      <td>55800</td>\n",
       "      <td>80200</td>\n",
       "      <td>1.0</td>\n",
       "      <td>42</td>\n",
       "      <td>City</td>\n",
       "      <td>Jefferson</td>\n",
       "      <td>-87.702475</td>\n",
       "      <td>41.983951</td>\n",
       "      <td>...</td>\n",
       "      <td>Avg</td>\n",
       "      <td>1.00000</td>\n",
       "      <td>3.000000</td>\n",
       "      <td>Wood</td>\n",
       "      <td>No</td>\n",
       "      <td>No</td>\n",
       "      <td>7.000000</td>\n",
       "      <td>Other</td>\n",
       "      <td>Other</td>\n",
       "      <td>Other1</td>\n",
       "    </tr>\n",
       "    <tr>\n",
       "      <th>1</th>\n",
       "      <td>1</td>\n",
       "      <td>0</td>\n",
       "      <td>30620</td>\n",
       "      <td>34480</td>\n",
       "      <td>1.0</td>\n",
       "      <td>11</td>\n",
       "      <td>City</td>\n",
       "      <td>Lake View</td>\n",
       "      <td>-87.688857</td>\n",
       "      <td>41.992790</td>\n",
       "      <td>...</td>\n",
       "      <td>Avg</td>\n",
       "      <td>0.82453</td>\n",
       "      <td>2.239463</td>\n",
       "      <td>Wood</td>\n",
       "      <td>No</td>\n",
       "      <td>No</td>\n",
       "      <td>6.997498</td>\n",
       "      <td>Other</td>\n",
       "      <td>Other</td>\n",
       "      <td>Other1</td>\n",
       "    </tr>\n",
       "    <tr>\n",
       "      <th>2</th>\n",
       "      <td>340000</td>\n",
       "      <td>1</td>\n",
       "      <td>8490</td>\n",
       "      <td>253800</td>\n",
       "      <td>0.0</td>\n",
       "      <td>62</td>\n",
       "      <td>City</td>\n",
       "      <td>Lake View</td>\n",
       "      <td>-87.639967</td>\n",
       "      <td>41.940659</td>\n",
       "      <td>...</td>\n",
       "      <td>Avg</td>\n",
       "      <td>0.82453</td>\n",
       "      <td>2.239463</td>\n",
       "      <td>Wood</td>\n",
       "      <td>No</td>\n",
       "      <td>No</td>\n",
       "      <td>6.997498</td>\n",
       "      <td>Other</td>\n",
       "      <td>Other</td>\n",
       "      <td>Other1</td>\n",
       "    </tr>\n",
       "    <tr>\n",
       "      <th>3</th>\n",
       "      <td>89000</td>\n",
       "      <td>1</td>\n",
       "      <td>23760</td>\n",
       "      <td>124690</td>\n",
       "      <td>1.0</td>\n",
       "      <td>132</td>\n",
       "      <td>South</td>\n",
       "      <td>Worth</td>\n",
       "      <td>-87.682061</td>\n",
       "      <td>41.656045</td>\n",
       "      <td>...</td>\n",
       "      <td>Avg</td>\n",
       "      <td>1.00000</td>\n",
       "      <td>3.000000</td>\n",
       "      <td>Wood</td>\n",
       "      <td>No</td>\n",
       "      <td>No</td>\n",
       "      <td>7.000000</td>\n",
       "      <td>Other</td>\n",
       "      <td>Other</td>\n",
       "      <td>Other1</td>\n",
       "    </tr>\n",
       "    <tr>\n",
       "      <th>4</th>\n",
       "      <td>375000</td>\n",
       "      <td>1</td>\n",
       "      <td>59850</td>\n",
       "      <td>253540</td>\n",
       "      <td>1.0</td>\n",
       "      <td>90</td>\n",
       "      <td>South</td>\n",
       "      <td>Oak Park</td>\n",
       "      <td>-87.778743</td>\n",
       "      <td>41.891506</td>\n",
       "      <td>...</td>\n",
       "      <td>Avg</td>\n",
       "      <td>1.00000</td>\n",
       "      <td>3.000000</td>\n",
       "      <td>Wood</td>\n",
       "      <td>No</td>\n",
       "      <td>No</td>\n",
       "      <td>7.000000</td>\n",
       "      <td>Other</td>\n",
       "      <td>Other</td>\n",
       "      <td>Other1</td>\n",
       "    </tr>\n",
       "  </tbody>\n",
       "</table>\n",
       "<p>5 rows × 54 columns</p>\n",
       "</div>"
      ],
      "text/plain": [
       "   SalePrice  ArmsLengthTransaction  EstimateLand  EstimateBuilding  \\\n",
       "0     407000                      1         55800             80200   \n",
       "1          1                      0         30620             34480   \n",
       "2     340000                      1          8490            253800   \n",
       "3      89000                      1         23760            124690   \n",
       "4     375000                      1         59850            253540   \n",
       "\n",
       "   MostRecentSale  NeighborhoodCode TownshipLocation TownshipName  Longitude  \\\n",
       "0             1.0                42             City    Jefferson -87.702475   \n",
       "1             1.0                11             City    Lake View -87.688857   \n",
       "2             0.0                62             City    Lake View -87.639967   \n",
       "3             1.0               132            South        Worth -87.682061   \n",
       "4             1.0                90            South     Oak Park -87.778743   \n",
       "\n",
       "    Latitude  ...  RepairCondition  GarageIndicator  Garage1Size  \\\n",
       "0  41.983951  ...              Avg          1.00000     3.000000   \n",
       "1  41.992790  ...              Avg          0.82453     2.239463   \n",
       "2  41.940659  ...              Avg          0.82453     2.239463   \n",
       "3  41.656045  ...              Avg          1.00000     3.000000   \n",
       "4  41.891506  ...              Avg          1.00000     3.000000   \n",
       "\n",
       "   Garage1Material Garage1Attachment  Garage1Area  Garage2Size  \\\n",
       "0             Wood                No           No     7.000000   \n",
       "1             Wood                No           No     6.997498   \n",
       "2             Wood                No           No     6.997498   \n",
       "3             Wood                No           No     7.000000   \n",
       "4             Wood                No           No     7.000000   \n",
       "\n",
       "   Garage2Material  Garage2Attachment  Garage2Area  \n",
       "0            Other              Other       Other1  \n",
       "1            Other              Other       Other1  \n",
       "2            Other              Other       Other1  \n",
       "3            Other              Other       Other1  \n",
       "4            Other              Other       Other1  \n",
       "\n",
       "[5 rows x 54 columns]"
      ]
     },
     "execution_count": 25,
     "metadata": {},
     "output_type": "execute_result"
    }
   ],
   "source": [
    "df.head()"
   ]
  },
  {
   "cell_type": "code",
   "execution_count": 26,
   "metadata": {},
   "outputs": [
    {
     "name": "stdout",
     "output_type": "stream",
     "text": [
      "<class 'pandas.core.frame.DataFrame'>\n",
      "RangeIndex: 408359 entries, 0 to 408358\n",
      "Data columns (total 54 columns):\n",
      " #   Column                   Non-Null Count   Dtype  \n",
      "---  ------                   --------------   -----  \n",
      " 0   SalePrice                408359 non-null  int64  \n",
      " 1   ArmsLengthTransaction    408359 non-null  int64  \n",
      " 2   EstimateLand             408359 non-null  int64  \n",
      " 3   EstimateBuilding         408359 non-null  int64  \n",
      " 4   MostRecentSale           408359 non-null  float64\n",
      " 5   NeighborhoodCode         408359 non-null  int64  \n",
      " 6   TownshipLocation         408359 non-null  object \n",
      " 7   TownshipName             408359 non-null  object \n",
      " 8   Longitude                408359 non-null  float64\n",
      " 9   Latitude                 408359 non-null  float64\n",
      " 10  OHareNoise               408359 non-null  float64\n",
      " 11  Floodplain               408359 non-null  float64\n",
      " 12  RoadProximity            408359 non-null  float64\n",
      " 13  CensusTract              408359 non-null  float64\n",
      " 14  PropertyDesc             408359 non-null  object \n",
      " 15  Apartments               408359 non-null  float64\n",
      " 16  Age                      408359 non-null  int64  \n",
      " 17  TypeOfResidence          408359 non-null  float64\n",
      " 18  MultiPropertyIndicator   408359 non-null  int64  \n",
      " 19  MultiFamilyIndicator     408359 non-null  int64  \n",
      " 20  MultiCode                408359 non-null  float64\n",
      " 21  NumberOfCommercialUnits  408359 non-null  float64\n",
      " 22  LandSquareFeet           408359 non-null  float64\n",
      " 23  BuildingSquareFeet       408359 non-null  float64\n",
      " 24  SiteDesirability         408359 non-null  float64\n",
      " 25  CondoPercentOwnership    408359 non-null  float64\n",
      " 26  Rooms                    408359 non-null  float64\n",
      " 27  Bedrooms                 408359 non-null  float64\n",
      " 28  FullBaths                408359 non-null  float64\n",
      " 29  HalfBaths                408359 non-null  float64\n",
      " 30  Basement                 408359 non-null  object \n",
      " 31  BasementFinish           408359 non-null  object \n",
      " 32  CentralHeating           408359 non-null  object \n",
      " 33  OtherHeating             408359 non-null  object \n",
      " 34  CentralAir               408359 non-null  float64\n",
      " 35  Fireplaces               408359 non-null  float64\n",
      " 36  AtticType                408359 non-null  object \n",
      " 37  WallMaterial             408359 non-null  object \n",
      " 38  RoofMaterial             408359 non-null  object \n",
      " 39  CathedralCeiling         408359 non-null  object \n",
      " 40  DesignPlan               408359 non-null  object \n",
      " 41  ConstructionQuality      408359 non-null  object \n",
      " 42  Porch                    408359 non-null  object \n",
      " 43  OtherImprovements        408359 non-null  float64\n",
      " 44  RepairCondition          408359 non-null  object \n",
      " 45  GarageIndicator          408359 non-null  float64\n",
      " 46  Garage1Size              408359 non-null  float64\n",
      " 47  Garage1Material          408359 non-null  object \n",
      " 48  Garage1Attachment        408359 non-null  object \n",
      " 49  Garage1Area              408359 non-null  object \n",
      " 50  Garage2Size              408359 non-null  float64\n",
      " 51  Garage2Material          408359 non-null  object \n",
      " 52  Garage2Attachment        408359 non-null  object \n",
      " 53  Garage2Area              408359 non-null  object \n",
      "dtypes: float64(25), int64(8), object(21)\n",
      "memory usage: 168.2+ MB\n"
     ]
    }
   ],
   "source": [
    "df.info()"
   ]
  },
  {
   "cell_type": "code",
   "execution_count": 27,
   "metadata": {},
   "outputs": [],
   "source": [
    "# Handle categorical features"
   ]
  },
  {
   "cell_type": "code",
   "execution_count": 28,
   "metadata": {},
   "outputs": [],
   "source": [
    "columns=['TownshipLocation','TownshipName','PropertyDesc','Basement',\n",
    "         'BasementFinish','CentralHeating','OtherHeating','AtticType',\n",
    "         'WallMaterial','RoofMaterial','CathedralCeiling','DesignPlan','ConstructionQuality',\n",
    "         'Porch','RepairCondition','Garage1Material',\n",
    "         'Garage1Attachment','Garage1Area','Garage2Material','Garage2Attachment','Garage2Area']"
   ]
  },
  {
   "cell_type": "code",
   "execution_count": 29,
   "metadata": {},
   "outputs": [
    {
     "data": {
      "text/plain": [
       "21"
      ]
     },
     "execution_count": 29,
     "metadata": {},
     "output_type": "execute_result"
    }
   ],
   "source": [
    "len(columns)"
   ]
  },
  {
   "cell_type": "code",
   "execution_count": 30,
   "metadata": {},
   "outputs": [],
   "source": [
    "def category_onehot_multcols(multcolumns):\n",
    "    df_final = final_df\n",
    "    i = 0\n",
    "    for fields in multcolumns:\n",
    "        \n",
    "        print(fields)\n",
    "        df1 = pd.get_dummies(final_df[fields],drop_first=True)\n",
    "        \n",
    "        final_df.drop([fields],axis=1,inplace=True)\n",
    "        if i== 0:\n",
    "            df_final = df1.copy()\n",
    "        else:\n",
    "            df_final = pd.concat([df_final,df1],axis=1)\n",
    "        i = i+1\n",
    "        \n",
    "        \n",
    "    df_final = pd.concat([final_df,df_final],axis=1)\n",
    "    \n",
    "    return df_final"
   ]
  },
  {
   "cell_type": "code",
   "execution_count": 33,
   "metadata": {},
   "outputs": [],
   "source": [
    "main_df = df.copy()"
   ]
  },
  {
   "cell_type": "code",
   "execution_count": 34,
   "metadata": {},
   "outputs": [],
   "source": [
    "#Combine test data\n",
    "holdout=pd.read_csv('formulatedtest.csv')"
   ]
  },
  {
   "cell_type": "code",
   "execution_count": 35,
   "metadata": {},
   "outputs": [
    {
     "data": {
      "text/plain": [
       "(143177, 53)"
      ]
     },
     "execution_count": 35,
     "metadata": {},
     "output_type": "execute_result"
    }
   ],
   "source": [
    "holdout.shape"
   ]
  },
  {
   "cell_type": "code",
   "execution_count": 36,
   "metadata": {},
   "outputs": [
    {
     "data": {
      "text/html": [
       "<div>\n",
       "<style scoped>\n",
       "    .dataframe tbody tr th:only-of-type {\n",
       "        vertical-align: middle;\n",
       "    }\n",
       "\n",
       "    .dataframe tbody tr th {\n",
       "        vertical-align: top;\n",
       "    }\n",
       "\n",
       "    .dataframe thead th {\n",
       "        text-align: right;\n",
       "    }\n",
       "</style>\n",
       "<table border=\"1\" class=\"dataframe\">\n",
       "  <thead>\n",
       "    <tr style=\"text-align: right;\">\n",
       "      <th></th>\n",
       "      <th>ArmsLengthTransaction</th>\n",
       "      <th>EstimateLand</th>\n",
       "      <th>EstimateBuilding</th>\n",
       "      <th>MostRecentSale</th>\n",
       "      <th>NeighborhoodCode</th>\n",
       "      <th>TownshipLocation</th>\n",
       "      <th>TownshipName</th>\n",
       "      <th>Longitude</th>\n",
       "      <th>Latitude</th>\n",
       "      <th>OHareNoise</th>\n",
       "      <th>...</th>\n",
       "      <th>RepairCondition</th>\n",
       "      <th>GarageIndicator</th>\n",
       "      <th>Garage1Size</th>\n",
       "      <th>Garage1Material</th>\n",
       "      <th>Garage1Attachment</th>\n",
       "      <th>Garage1Area</th>\n",
       "      <th>Garage2Size</th>\n",
       "      <th>Garage2Material</th>\n",
       "      <th>Garage2Attachment</th>\n",
       "      <th>Garage2Area</th>\n",
       "    </tr>\n",
       "  </thead>\n",
       "  <tbody>\n",
       "    <tr>\n",
       "      <th>0</th>\n",
       "      <td>1</td>\n",
       "      <td>37500</td>\n",
       "      <td>239610</td>\n",
       "      <td>1.0</td>\n",
       "      <td>60</td>\n",
       "      <td>City</td>\n",
       "      <td>Jefferson</td>\n",
       "      <td>-87.752573</td>\n",
       "      <td>41.971884</td>\n",
       "      <td>0.000000</td>\n",
       "      <td>...</td>\n",
       "      <td>Avg</td>\n",
       "      <td>0.00000</td>\n",
       "      <td>0.00000</td>\n",
       "      <td>Other</td>\n",
       "      <td>Other</td>\n",
       "      <td>Other1</td>\n",
       "      <td>7.000000</td>\n",
       "      <td>Other</td>\n",
       "      <td>Other</td>\n",
       "      <td>Other1</td>\n",
       "    </tr>\n",
       "    <tr>\n",
       "      <th>1</th>\n",
       "      <td>1</td>\n",
       "      <td>17520</td>\n",
       "      <td>102490</td>\n",
       "      <td>1.0</td>\n",
       "      <td>40</td>\n",
       "      <td>South</td>\n",
       "      <td>Orland</td>\n",
       "      <td>-87.828905</td>\n",
       "      <td>41.597308</td>\n",
       "      <td>0.000000</td>\n",
       "      <td>...</td>\n",
       "      <td>Avg</td>\n",
       "      <td>0.83778</td>\n",
       "      <td>2.28186</td>\n",
       "      <td>Wood</td>\n",
       "      <td>No</td>\n",
       "      <td>No</td>\n",
       "      <td>6.997679</td>\n",
       "      <td>Other</td>\n",
       "      <td>Other</td>\n",
       "      <td>Other1</td>\n",
       "    </tr>\n",
       "    <tr>\n",
       "      <th>2</th>\n",
       "      <td>1</td>\n",
       "      <td>30450</td>\n",
       "      <td>104790</td>\n",
       "      <td>1.0</td>\n",
       "      <td>72</td>\n",
       "      <td>South</td>\n",
       "      <td>Bloom</td>\n",
       "      <td>-87.554708</td>\n",
       "      <td>41.533171</td>\n",
       "      <td>0.000000</td>\n",
       "      <td>...</td>\n",
       "      <td>Avg</td>\n",
       "      <td>1.00000</td>\n",
       "      <td>3.00000</td>\n",
       "      <td>Masonry</td>\n",
       "      <td>No</td>\n",
       "      <td>No</td>\n",
       "      <td>7.000000</td>\n",
       "      <td>Other</td>\n",
       "      <td>Other</td>\n",
       "      <td>Other1</td>\n",
       "    </tr>\n",
       "    <tr>\n",
       "      <th>3</th>\n",
       "      <td>1</td>\n",
       "      <td>600</td>\n",
       "      <td>93840</td>\n",
       "      <td>0.0</td>\n",
       "      <td>10</td>\n",
       "      <td>City</td>\n",
       "      <td>South Chicago</td>\n",
       "      <td>-87.773778</td>\n",
       "      <td>41.878031</td>\n",
       "      <td>0.013336</td>\n",
       "      <td>...</td>\n",
       "      <td>Avg</td>\n",
       "      <td>0.83778</td>\n",
       "      <td>2.28186</td>\n",
       "      <td>Wood</td>\n",
       "      <td>No</td>\n",
       "      <td>No</td>\n",
       "      <td>6.997679</td>\n",
       "      <td>Other</td>\n",
       "      <td>Other</td>\n",
       "      <td>Other1</td>\n",
       "    </tr>\n",
       "    <tr>\n",
       "      <th>4</th>\n",
       "      <td>1</td>\n",
       "      <td>69300</td>\n",
       "      <td>377170</td>\n",
       "      <td>0.0</td>\n",
       "      <td>40</td>\n",
       "      <td>North</td>\n",
       "      <td>Wheeling</td>\n",
       "      <td>-87.973532</td>\n",
       "      <td>42.118017</td>\n",
       "      <td>0.000000</td>\n",
       "      <td>...</td>\n",
       "      <td>Avg</td>\n",
       "      <td>1.00000</td>\n",
       "      <td>3.00000</td>\n",
       "      <td>Wood&amp;Masonry</td>\n",
       "      <td>Yes</td>\n",
       "      <td>No</td>\n",
       "      <td>7.000000</td>\n",
       "      <td>Other</td>\n",
       "      <td>Other</td>\n",
       "      <td>Other1</td>\n",
       "    </tr>\n",
       "  </tbody>\n",
       "</table>\n",
       "<p>5 rows × 53 columns</p>\n",
       "</div>"
      ],
      "text/plain": [
       "   ArmsLengthTransaction  EstimateLand  EstimateBuilding  MostRecentSale  \\\n",
       "0                      1         37500            239610             1.0   \n",
       "1                      1         17520            102490             1.0   \n",
       "2                      1         30450            104790             1.0   \n",
       "3                      1           600             93840             0.0   \n",
       "4                      1         69300            377170             0.0   \n",
       "\n",
       "   NeighborhoodCode TownshipLocation   TownshipName  Longitude   Latitude  \\\n",
       "0                60             City      Jefferson -87.752573  41.971884   \n",
       "1                40            South         Orland -87.828905  41.597308   \n",
       "2                72            South          Bloom -87.554708  41.533171   \n",
       "3                10             City  South Chicago -87.773778  41.878031   \n",
       "4                40            North       Wheeling -87.973532  42.118017   \n",
       "\n",
       "   OHareNoise  ...  RepairCondition  GarageIndicator  Garage1Size  \\\n",
       "0    0.000000  ...              Avg          0.00000      0.00000   \n",
       "1    0.000000  ...              Avg          0.83778      2.28186   \n",
       "2    0.000000  ...              Avg          1.00000      3.00000   \n",
       "3    0.013336  ...              Avg          0.83778      2.28186   \n",
       "4    0.000000  ...              Avg          1.00000      3.00000   \n",
       "\n",
       "  Garage1Material  Garage1Attachment  Garage1Area  Garage2Size  \\\n",
       "0           Other              Other       Other1     7.000000   \n",
       "1            Wood                 No           No     6.997679   \n",
       "2         Masonry                 No           No     7.000000   \n",
       "3            Wood                 No           No     6.997679   \n",
       "4    Wood&Masonry                Yes           No     7.000000   \n",
       "\n",
       "   Garage2Material  Garage2Attachment  Garage2Area  \n",
       "0            Other              Other       Other1  \n",
       "1            Other              Other       Other1  \n",
       "2            Other              Other       Other1  \n",
       "3            Other              Other       Other1  \n",
       "4            Other              Other       Other1  \n",
       "\n",
       "[5 rows x 53 columns]"
      ]
     },
     "execution_count": 36,
     "metadata": {},
     "output_type": "execute_result"
    }
   ],
   "source": [
    "holdout.head()"
   ]
  },
  {
   "cell_type": "code",
   "execution_count": 37,
   "metadata": {},
   "outputs": [],
   "source": [
    "# combining \n",
    "final_df=pd.concat([df,holdout],axis=0)"
   ]
  },
  {
   "cell_type": "code",
   "execution_count": 38,
   "metadata": {},
   "outputs": [
    {
     "data": {
      "text/plain": [
       "(551536, 54)"
      ]
     },
     "execution_count": 38,
     "metadata": {},
     "output_type": "execute_result"
    }
   ],
   "source": [
    "final_df.shape"
   ]
  },
  {
   "cell_type": "code",
   "execution_count": 39,
   "metadata": {},
   "outputs": [
    {
     "name": "stdout",
     "output_type": "stream",
     "text": [
      "TownshipLocation\n",
      "TownshipName\n",
      "PropertyDesc\n",
      "Basement\n",
      "BasementFinish\n",
      "CentralHeating\n",
      "OtherHeating\n",
      "AtticType\n",
      "WallMaterial\n",
      "RoofMaterial\n",
      "CathedralCeiling\n",
      "DesignPlan\n",
      "ConstructionQuality\n",
      "Porch\n",
      "RepairCondition\n",
      "Garage1Material\n",
      "Garage1Attachment\n",
      "Garage1Area\n",
      "Garage2Material\n",
      "Garage2Attachment\n",
      "Garage2Area\n"
     ]
    }
   ],
   "source": [
    "final_df = category_onehot_multcols(columns)"
   ]
  },
  {
   "cell_type": "code",
   "execution_count": 41,
   "metadata": {},
   "outputs": [
    {
     "data": {
      "text/plain": [
       "(551536, 128)"
      ]
     },
     "execution_count": 41,
     "metadata": {},
     "output_type": "execute_result"
    }
   ],
   "source": [
    "final_df.shape"
   ]
  },
  {
   "cell_type": "code",
   "execution_count": 42,
   "metadata": {},
   "outputs": [],
   "source": [
    "final_df=final_df.loc[:,~final_df.columns.duplicated()]"
   ]
  },
  {
   "cell_type": "code",
   "execution_count": 43,
   "metadata": {},
   "outputs": [
    {
     "data": {
      "text/plain": [
       "(551536, 111)"
      ]
     },
     "execution_count": 43,
     "metadata": {},
     "output_type": "execute_result"
    }
   ],
   "source": [
    "final_df.shape"
   ]
  },
  {
   "cell_type": "code",
   "execution_count": 44,
   "metadata": {},
   "outputs": [
    {
     "data": {
      "text/html": [
       "<div>\n",
       "<style scoped>\n",
       "    .dataframe tbody tr th:only-of-type {\n",
       "        vertical-align: middle;\n",
       "    }\n",
       "\n",
       "    .dataframe tbody tr th {\n",
       "        vertical-align: top;\n",
       "    }\n",
       "\n",
       "    .dataframe thead th {\n",
       "        text-align: right;\n",
       "    }\n",
       "</style>\n",
       "<table border=\"1\" class=\"dataframe\">\n",
       "  <thead>\n",
       "    <tr style=\"text-align: right;\">\n",
       "      <th></th>\n",
       "      <th>SalePrice</th>\n",
       "      <th>ArmsLengthTransaction</th>\n",
       "      <th>EstimateLand</th>\n",
       "      <th>EstimateBuilding</th>\n",
       "      <th>MostRecentSale</th>\n",
       "      <th>NeighborhoodCode</th>\n",
       "      <th>Longitude</th>\n",
       "      <th>Latitude</th>\n",
       "      <th>OHareNoise</th>\n",
       "      <th>Floodplain</th>\n",
       "      <th>...</th>\n",
       "      <th>Tile</th>\n",
       "      <th>StockPlan</th>\n",
       "      <th>Deluxe</th>\n",
       "      <th>Poor</th>\n",
       "      <th>Masonry</th>\n",
       "      <th>Avg</th>\n",
       "      <th>BelowAvg</th>\n",
       "      <th>Other</th>\n",
       "      <th>Yes</th>\n",
       "      <th>Other1</th>\n",
       "    </tr>\n",
       "  </thead>\n",
       "  <tbody>\n",
       "    <tr>\n",
       "      <th>0</th>\n",
       "      <td>407000.0</td>\n",
       "      <td>1</td>\n",
       "      <td>55800</td>\n",
       "      <td>80200</td>\n",
       "      <td>1.0</td>\n",
       "      <td>42</td>\n",
       "      <td>-87.702475</td>\n",
       "      <td>41.983951</td>\n",
       "      <td>0.0</td>\n",
       "      <td>0.0</td>\n",
       "      <td>...</td>\n",
       "      <td>0</td>\n",
       "      <td>1</td>\n",
       "      <td>0</td>\n",
       "      <td>0</td>\n",
       "      <td>0</td>\n",
       "      <td>1</td>\n",
       "      <td>0</td>\n",
       "      <td>0</td>\n",
       "      <td>0</td>\n",
       "      <td>0</td>\n",
       "    </tr>\n",
       "    <tr>\n",
       "      <th>1</th>\n",
       "      <td>1.0</td>\n",
       "      <td>0</td>\n",
       "      <td>30620</td>\n",
       "      <td>34480</td>\n",
       "      <td>1.0</td>\n",
       "      <td>11</td>\n",
       "      <td>-87.688857</td>\n",
       "      <td>41.992790</td>\n",
       "      <td>0.0</td>\n",
       "      <td>0.0</td>\n",
       "      <td>...</td>\n",
       "      <td>0</td>\n",
       "      <td>1</td>\n",
       "      <td>0</td>\n",
       "      <td>0</td>\n",
       "      <td>0</td>\n",
       "      <td>1</td>\n",
       "      <td>0</td>\n",
       "      <td>0</td>\n",
       "      <td>0</td>\n",
       "      <td>0</td>\n",
       "    </tr>\n",
       "    <tr>\n",
       "      <th>2</th>\n",
       "      <td>340000.0</td>\n",
       "      <td>1</td>\n",
       "      <td>8490</td>\n",
       "      <td>253800</td>\n",
       "      <td>0.0</td>\n",
       "      <td>62</td>\n",
       "      <td>-87.639967</td>\n",
       "      <td>41.940659</td>\n",
       "      <td>0.0</td>\n",
       "      <td>0.0</td>\n",
       "      <td>...</td>\n",
       "      <td>0</td>\n",
       "      <td>1</td>\n",
       "      <td>0</td>\n",
       "      <td>0</td>\n",
       "      <td>0</td>\n",
       "      <td>1</td>\n",
       "      <td>0</td>\n",
       "      <td>0</td>\n",
       "      <td>0</td>\n",
       "      <td>0</td>\n",
       "    </tr>\n",
       "    <tr>\n",
       "      <th>3</th>\n",
       "      <td>89000.0</td>\n",
       "      <td>1</td>\n",
       "      <td>23760</td>\n",
       "      <td>124690</td>\n",
       "      <td>1.0</td>\n",
       "      <td>132</td>\n",
       "      <td>-87.682061</td>\n",
       "      <td>41.656045</td>\n",
       "      <td>0.0</td>\n",
       "      <td>0.0</td>\n",
       "      <td>...</td>\n",
       "      <td>0</td>\n",
       "      <td>1</td>\n",
       "      <td>0</td>\n",
       "      <td>0</td>\n",
       "      <td>0</td>\n",
       "      <td>1</td>\n",
       "      <td>0</td>\n",
       "      <td>0</td>\n",
       "      <td>0</td>\n",
       "      <td>0</td>\n",
       "    </tr>\n",
       "    <tr>\n",
       "      <th>4</th>\n",
       "      <td>375000.0</td>\n",
       "      <td>1</td>\n",
       "      <td>59850</td>\n",
       "      <td>253540</td>\n",
       "      <td>1.0</td>\n",
       "      <td>90</td>\n",
       "      <td>-87.778743</td>\n",
       "      <td>41.891506</td>\n",
       "      <td>0.0</td>\n",
       "      <td>0.0</td>\n",
       "      <td>...</td>\n",
       "      <td>0</td>\n",
       "      <td>0</td>\n",
       "      <td>0</td>\n",
       "      <td>0</td>\n",
       "      <td>0</td>\n",
       "      <td>1</td>\n",
       "      <td>0</td>\n",
       "      <td>0</td>\n",
       "      <td>0</td>\n",
       "      <td>0</td>\n",
       "    </tr>\n",
       "  </tbody>\n",
       "</table>\n",
       "<p>5 rows × 111 columns</p>\n",
       "</div>"
      ],
      "text/plain": [
       "   SalePrice  ArmsLengthTransaction  EstimateLand  EstimateBuilding  \\\n",
       "0   407000.0                      1         55800             80200   \n",
       "1        1.0                      0         30620             34480   \n",
       "2   340000.0                      1          8490            253800   \n",
       "3    89000.0                      1         23760            124690   \n",
       "4   375000.0                      1         59850            253540   \n",
       "\n",
       "   MostRecentSale  NeighborhoodCode  Longitude   Latitude  OHareNoise  \\\n",
       "0             1.0                42 -87.702475  41.983951         0.0   \n",
       "1             1.0                11 -87.688857  41.992790         0.0   \n",
       "2             0.0                62 -87.639967  41.940659         0.0   \n",
       "3             1.0               132 -87.682061  41.656045         0.0   \n",
       "4             1.0                90 -87.778743  41.891506         0.0   \n",
       "\n",
       "   Floodplain  ...  Tile  StockPlan  Deluxe  Poor  Masonry  Avg  BelowAvg  \\\n",
       "0         0.0  ...     0          1       0     0        0    1         0   \n",
       "1         0.0  ...     0          1       0     0        0    1         0   \n",
       "2         0.0  ...     0          1       0     0        0    1         0   \n",
       "3         0.0  ...     0          1       0     0        0    1         0   \n",
       "4         0.0  ...     0          0       0     0        0    1         0   \n",
       "\n",
       "   Other  Yes  Other1  \n",
       "0      0    0       0  \n",
       "1      0    0       0  \n",
       "2      0    0       0  \n",
       "3      0    0       0  \n",
       "4      0    0       0  \n",
       "\n",
       "[5 rows x 111 columns]"
      ]
     },
     "execution_count": 44,
     "metadata": {},
     "output_type": "execute_result"
    }
   ],
   "source": [
    "final_df.head()"
   ]
  },
  {
   "cell_type": "code",
   "execution_count": 45,
   "metadata": {},
   "outputs": [],
   "source": [
    "#divide into training and test data set\n",
    "df_Train=final_df.iloc[:408359,:]\n",
    "df_holdout=final_df.iloc[408359:,:]"
   ]
  },
  {
   "cell_type": "code",
   "execution_count": 46,
   "metadata": {},
   "outputs": [
    {
     "name": "stderr",
     "output_type": "stream",
     "text": [
      "C:\\ProgramData\\Anaconda3\\lib\\site-packages\\pandas\\core\\frame.py:3990: SettingWithCopyWarning: \n",
      "A value is trying to be set on a copy of a slice from a DataFrame\n",
      "\n",
      "See the caveats in the documentation: https://pandas.pydata.org/pandas-docs/stable/user_guide/indexing.html#returning-a-view-versus-a-copy\n",
      "  return super().drop(\n"
     ]
    }
   ],
   "source": [
    "df_holdout.drop(['SalePrice'],axis=1,inplace=True)"
   ]
  },
  {
   "cell_type": "code",
   "execution_count": 47,
   "metadata": {},
   "outputs": [
    {
     "data": {
      "text/plain": [
       "(143177, 110)"
      ]
     },
     "execution_count": 47,
     "metadata": {},
     "output_type": "execute_result"
    }
   ],
   "source": [
    "df_holdout.shape"
   ]
  },
  {
   "cell_type": "code",
   "execution_count": 49,
   "metadata": {},
   "outputs": [],
   "source": [
    "x_train=df_Train.drop(['SalePrice'],axis=1)\n",
    "y_train=df_Train['SalePrice']"
   ]
  },
  {
   "cell_type": "code",
   "execution_count": 56,
   "metadata": {},
   "outputs": [
    {
     "data": {
      "text/plain": [
       "XGBRegressor(base_score=0.5, booster='gbtree', colsample_bylevel=1,\n",
       "             colsample_bynode=1, colsample_bytree=1, gamma=0, gpu_id=-1,\n",
       "             importance_type='gain', interaction_constraints='',\n",
       "             learning_rate=0.300000012, max_delta_step=0, max_depth=6,\n",
       "             min_child_weight=1, missing=nan, monotone_constraints='()',\n",
       "             n_estimators=100, n_jobs=0, num_parallel_tree=1, random_state=0,\n",
       "             reg_alpha=0, reg_lambda=1, scale_pos_weight=1, subsample=1,\n",
       "             tree_method='exact', validate_parameters=1, verbosity=None)"
      ]
     },
     "execution_count": 56,
     "metadata": {},
     "output_type": "execute_result"
    }
   ],
   "source": [
    "import xgboost\n",
    "classifier=xgboost.XGBRegressor()\n",
    "classifier.fit(x_train,y_train)"
   ]
  },
  {
   "cell_type": "code",
   "execution_count": 52,
   "metadata": {},
   "outputs": [],
   "source": [
    "from sklearn.ensemble import RandomForestRegressor"
   ]
  },
  {
   "cell_type": "code",
   "execution_count": 57,
   "metadata": {},
   "outputs": [],
   "source": [
    "import pickle\n",
    "filename = 'finalized_model.pkl'\n",
    "pickle.dump(classifier,open(filename, 'wb'))"
   ]
  },
  {
   "cell_type": "code",
   "execution_count": 58,
   "metadata": {},
   "outputs": [],
   "source": [
    "y_pred=classifier.predict(df_holdout)"
   ]
  },
  {
   "cell_type": "code",
   "execution_count": 59,
   "metadata": {},
   "outputs": [
    {
     "data": {
      "text/plain": [
       "array([299342.84 , 130356.625, 122719.3  , ..., 201922.67 , 138538.36 ,\n",
       "       124467.31 ], dtype=float32)"
      ]
     },
     "execution_count": 59,
     "metadata": {},
     "output_type": "execute_result"
    }
   ],
   "source": [
    "y_pred"
   ]
  },
  {
   "cell_type": "code",
   "execution_count": 63,
   "metadata": {},
   "outputs": [],
   "source": [
    "##create sample submission file and submit\n",
    "pred=pd.DataFrame(y_pred)\n",
    "sub_df=pd.read_csv('starter_submission.csv')\n",
    "datasets=pd.concat([sub_df['Id'],pred],axis=1)\n",
    "datasets.columns=['Id','SalePrice']\n",
    "datasets.to_csv('starter_submission.csv',index=False)"
   ]
  },
  {
   "cell_type": "code",
   "execution_count": 54,
   "metadata": {},
   "outputs": [
    {
     "data": {
      "text/plain": [
       "0.014356793209032381"
      ]
     },
     "execution_count": 54,
     "metadata": {},
     "output_type": "execute_result"
    }
   ],
   "source": [
    "# Use comments to make points\n",
    "SAMPLE_COL = ['Bedrooms']\n",
    "x = df[SAMPLE_COL].fillna(0)\n",
    "y = df['SalePrice']\n",
    "\n",
    "from sklearn.linear_model import LinearRegression \n",
    "model  = LinearRegression()\n",
    "model.fit(x, y)\n",
    "\n",
    "from sklearn.metrics import r2_score\n",
    "r2_score(y, model.predict(x))"
   ]
  },
  {
   "cell_type": "code",
   "execution_count": 55,
   "metadata": {},
   "outputs": [
    {
     "name": "stdout",
     "output_type": "stream",
     "text": [
      "Collecting xgboost\n",
      "  Downloading xgboost-1.1.1-py3-none-win_amd64.whl (54.4 MB)\n",
      "Requirement already satisfied: scipy in c:\\programdata\\anaconda3\\lib\\site-packages (from xgboost) (1.5.0)\n",
      "Requirement already satisfied: numpy in c:\\programdata\\anaconda3\\lib\\site-packages (from xgboost) (1.18.5)\n",
      "Installing collected packages: xgboost\n",
      "Successfully installed xgboost-1.1.1\n"
     ]
    }
   ],
   "source": [
    "!pip3 install xgboost"
   ]
  },
  {
   "cell_type": "code",
   "execution_count": null,
   "metadata": {},
   "outputs": [],
   "source": [
    "# Hyper parameter Optimisation\n",
    "\n",
    "n_estimators = [100, 500, 900, 1100, 1500]\n",
    "max_depth = [2, 3, 5, 10, 15]\n",
    "booster=['gbtree','gblinear']\n",
    "learning_rate=[0.05,0.1,0.15,0.20]\n",
    "min_child_weight=[1,2,3,4]\n",
    "\n",
    "#define the grid of hyperparameters to search\n"
   ]
  }
 ],
 "metadata": {
  "kernelspec": {
   "display_name": "Python 3",
   "language": "python",
   "name": "python3"
  },
  "language_info": {
   "codemirror_mode": {
    "name": "ipython",
    "version": 3
   },
   "file_extension": ".py",
   "mimetype": "text/x-python",
   "name": "python",
   "nbconvert_exporter": "python",
   "pygments_lexer": "ipython3",
   "version": "3.8.3"
  }
 },
 "nbformat": 4,
 "nbformat_minor": 4
}
