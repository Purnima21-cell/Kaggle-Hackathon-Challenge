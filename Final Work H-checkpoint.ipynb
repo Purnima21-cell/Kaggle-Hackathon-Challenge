{
 "cells": [
  {
   "cell_type": "code",
   "execution_count": 1,
   "metadata": {},
   "outputs": [],
   "source": [
    "# Import Library\n",
    "import numpy as np\n",
    "import pandas as pd\n",
    "import matplotlib.pyplot as plt\n",
    "import seaborn as sns"
   ]
  },
  {
   "cell_type": "code",
   "execution_count": 2,
   "metadata": {},
   "outputs": [],
   "source": [
    "holdout = pd.read_csv('holdout.csv')"
   ]
  },
  {
   "cell_type": "code",
   "execution_count": 3,
   "metadata": {},
   "outputs": [
    {
     "data": {
      "text/html": [
       "<div>\n",
       "<style scoped>\n",
       "    .dataframe tbody tr th:only-of-type {\n",
       "        vertical-align: middle;\n",
       "    }\n",
       "\n",
       "    .dataframe tbody tr th {\n",
       "        vertical-align: top;\n",
       "    }\n",
       "\n",
       "    .dataframe thead th {\n",
       "        text-align: right;\n",
       "    }\n",
       "</style>\n",
       "<table border=\"1\" class=\"dataframe\">\n",
       "  <thead>\n",
       "    <tr style=\"text-align: right;\">\n",
       "      <th></th>\n",
       "      <th>Id</th>\n",
       "      <th>SaleDate</th>\n",
       "      <th>SaleDeed</th>\n",
       "      <th>ArmsLengthTransaction</th>\n",
       "      <th>EstimateLand</th>\n",
       "      <th>EstimateBuilding</th>\n",
       "      <th>MostRecentSale</th>\n",
       "      <th>Pin</th>\n",
       "      <th>PropertyAddress</th>\n",
       "      <th>NeighborhoodCode</th>\n",
       "      <th>...</th>\n",
       "      <th>RepairCondition</th>\n",
       "      <th>GarageIndicator</th>\n",
       "      <th>Garage1Size</th>\n",
       "      <th>Garage1Material</th>\n",
       "      <th>Garage1Attachment</th>\n",
       "      <th>Garage1Area</th>\n",
       "      <th>Garage2Size</th>\n",
       "      <th>Garage2Material</th>\n",
       "      <th>Garage2Attachment</th>\n",
       "      <th>Garage2Area</th>\n",
       "    </tr>\n",
       "  </thead>\n",
       "  <tbody>\n",
       "    <tr>\n",
       "      <th>0</th>\n",
       "      <td>72621</td>\n",
       "      <td>04/04/2013</td>\n",
       "      <td>1309422094</td>\n",
       "      <td>1</td>\n",
       "      <td>37500</td>\n",
       "      <td>239610</td>\n",
       "      <td>1.0</td>\n",
       "      <td>13094140190000</td>\n",
       "      <td>4958 W ARGYLE ST</td>\n",
       "      <td>60</td>\n",
       "      <td>...</td>\n",
       "      <td>Avg</td>\n",
       "      <td>0.0</td>\n",
       "      <td>0.0</td>\n",
       "      <td>Other</td>\n",
       "      <td>Other</td>\n",
       "      <td>Other1</td>\n",
       "      <td>7.0</td>\n",
       "      <td>Other</td>\n",
       "      <td>Other</td>\n",
       "      <td>Other1</td>\n",
       "    </tr>\n",
       "    <tr>\n",
       "      <th>1</th>\n",
       "      <td>11263</td>\n",
       "      <td>10/22/2019</td>\n",
       "      <td>1929541191</td>\n",
       "      <td>1</td>\n",
       "      <td>17520</td>\n",
       "      <td>102490</td>\n",
       "      <td>1.0</td>\n",
       "      <td>27231040261008</td>\n",
       "      <td>16147 CREEKMONT CT</td>\n",
       "      <td>40</td>\n",
       "      <td>...</td>\n",
       "      <td>NaN</td>\n",
       "      <td>NaN</td>\n",
       "      <td>NaN</td>\n",
       "      <td>NaN</td>\n",
       "      <td>NaN</td>\n",
       "      <td>NaN</td>\n",
       "      <td>NaN</td>\n",
       "      <td>NaN</td>\n",
       "      <td>NaN</td>\n",
       "      <td>NaN</td>\n",
       "    </tr>\n",
       "    <tr>\n",
       "      <th>2</th>\n",
       "      <td>100878</td>\n",
       "      <td>11/27/2013</td>\n",
       "      <td>1333146014</td>\n",
       "      <td>1</td>\n",
       "      <td>30450</td>\n",
       "      <td>104790</td>\n",
       "      <td>1.0</td>\n",
       "      <td>33073200150000</td>\n",
       "      <td>19924 BROOK AVE</td>\n",
       "      <td>72</td>\n",
       "      <td>...</td>\n",
       "      <td>Avg</td>\n",
       "      <td>1.0</td>\n",
       "      <td>3.0</td>\n",
       "      <td>Masonry</td>\n",
       "      <td>No</td>\n",
       "      <td>No</td>\n",
       "      <td>7.0</td>\n",
       "      <td>Other</td>\n",
       "      <td>Other</td>\n",
       "      <td>Other1</td>\n",
       "    </tr>\n",
       "    <tr>\n",
       "      <th>3</th>\n",
       "      <td>198455</td>\n",
       "      <td>02/19/2014</td>\n",
       "      <td>1405035065</td>\n",
       "      <td>1</td>\n",
       "      <td>600</td>\n",
       "      <td>93840</td>\n",
       "      <td>0.0</td>\n",
       "      <td>17094180141074</td>\n",
       "      <td>182 W LAKE ST</td>\n",
       "      <td>10</td>\n",
       "      <td>...</td>\n",
       "      <td>NaN</td>\n",
       "      <td>NaN</td>\n",
       "      <td>NaN</td>\n",
       "      <td>NaN</td>\n",
       "      <td>NaN</td>\n",
       "      <td>NaN</td>\n",
       "      <td>NaN</td>\n",
       "      <td>NaN</td>\n",
       "      <td>NaN</td>\n",
       "      <td>NaN</td>\n",
       "    </tr>\n",
       "    <tr>\n",
       "      <th>4</th>\n",
       "      <td>131760</td>\n",
       "      <td>08/06/2013</td>\n",
       "      <td>1321812174</td>\n",
       "      <td>1</td>\n",
       "      <td>69300</td>\n",
       "      <td>377170</td>\n",
       "      <td>0.0</td>\n",
       "      <td>3172040700000</td>\n",
       "      <td>714 E APPLETREE LN</td>\n",
       "      <td>40</td>\n",
       "      <td>...</td>\n",
       "      <td>Avg</td>\n",
       "      <td>1.0</td>\n",
       "      <td>3.0</td>\n",
       "      <td>Wood&amp;Masonry</td>\n",
       "      <td>Yes</td>\n",
       "      <td>No</td>\n",
       "      <td>7.0</td>\n",
       "      <td>Other</td>\n",
       "      <td>Other</td>\n",
       "      <td>Other1</td>\n",
       "    </tr>\n",
       "  </tbody>\n",
       "</table>\n",
       "<p>5 rows × 64 columns</p>\n",
       "</div>"
      ],
      "text/plain": [
       "       Id    SaleDate    SaleDeed  ArmsLengthTransaction  EstimateLand  \\\n",
       "0   72621  04/04/2013  1309422094                      1         37500   \n",
       "1   11263  10/22/2019  1929541191                      1         17520   \n",
       "2  100878  11/27/2013  1333146014                      1         30450   \n",
       "3  198455  02/19/2014  1405035065                      1           600   \n",
       "4  131760  08/06/2013  1321812174                      1         69300   \n",
       "\n",
       "   EstimateBuilding  MostRecentSale             Pin     PropertyAddress  \\\n",
       "0            239610             1.0  13094140190000    4958 W ARGYLE ST   \n",
       "1            102490             1.0  27231040261008  16147 CREEKMONT CT   \n",
       "2            104790             1.0  33073200150000     19924 BROOK AVE   \n",
       "3             93840             0.0  17094180141074       182 W LAKE ST   \n",
       "4            377170             0.0   3172040700000  714 E APPLETREE LN   \n",
       "\n",
       "   NeighborhoodCode  ... RepairCondition GarageIndicator  Garage1Size  \\\n",
       "0                60  ...             Avg             0.0          0.0   \n",
       "1                40  ...             NaN             NaN          NaN   \n",
       "2                72  ...             Avg             1.0          3.0   \n",
       "3                10  ...             NaN             NaN          NaN   \n",
       "4                40  ...             Avg             1.0          3.0   \n",
       "\n",
       "   Garage1Material  Garage1Attachment  Garage1Area  Garage2Size  \\\n",
       "0            Other              Other       Other1          7.0   \n",
       "1              NaN                NaN          NaN          NaN   \n",
       "2          Masonry                 No           No          7.0   \n",
       "3              NaN                NaN          NaN          NaN   \n",
       "4     Wood&Masonry                Yes           No          7.0   \n",
       "\n",
       "   Garage2Material Garage2Attachment  Garage2Area  \n",
       "0            Other             Other       Other1  \n",
       "1              NaN               NaN          NaN  \n",
       "2            Other             Other       Other1  \n",
       "3              NaN               NaN          NaN  \n",
       "4            Other             Other       Other1  \n",
       "\n",
       "[5 rows x 64 columns]"
      ]
     },
     "execution_count": 3,
     "metadata": {},
     "output_type": "execute_result"
    }
   ],
   "source": [
    "holdout.head()"
   ]
  },
  {
   "cell_type": "code",
   "execution_count": 4,
   "metadata": {},
   "outputs": [
    {
     "data": {
      "text/plain": [
       "Id                           0\n",
       "SaleDate                     0\n",
       "SaleDeed                     0\n",
       "ArmsLengthTransaction        0\n",
       "EstimateLand                 0\n",
       "                         ...  \n",
       "Garage1Area              44071\n",
       "Garage2Size              44071\n",
       "Garage2Material          44071\n",
       "Garage2Attachment        44071\n",
       "Garage2Area              44210\n",
       "Length: 64, dtype: int64"
      ]
     },
     "execution_count": 4,
     "metadata": {},
     "output_type": "execute_result"
    }
   ],
   "source": [
    "# To see the no. of missing values\n",
    "holdout.isnull().sum()"
   ]
  },
  {
   "cell_type": "code",
   "execution_count": 5,
   "metadata": {},
   "outputs": [
    {
     "data": {
      "text/plain": [
       "<matplotlib.axes._subplots.AxesSubplot at 0x1eb34bb2bb0>"
      ]
     },
     "execution_count": 5,
     "metadata": {},
     "output_type": "execute_result"
    },
    {
     "data": {
      "image/png": "[encoded data removed]",
      "text/plain": [
       "<Figure size 432x288 with 1 Axes>"
      ]
     },
     "metadata": {
      "needs_background": "light"
     },
     "output_type": "display_data"
    }
   ],
   "source": [
    "# To see null values with the help of heatmap\n",
    "# White lines shown missing values\n",
    "sns.heatmap(holdout.isnull(),yticklabels=False,cbar=False)"
   ]
  },
  {
   "cell_type": "code",
   "execution_count": 6,
   "metadata": {},
   "outputs": [
    {
     "data": {
      "text/plain": [
       "(143177, 64)"
      ]
     },
     "execution_count": 6,
     "metadata": {},
     "output_type": "execute_result"
    }
   ],
   "source": [
    "holdout.shape"
   ]
  },
  {
   "cell_type": "code",
   "execution_count": 7,
   "metadata": {},
   "outputs": [
    {
     "name": "stdout",
     "output_type": "stream",
     "text": [
      "<class 'pandas.core.frame.DataFrame'>\n",
      "RangeIndex: 143177 entries, 0 to 143176\n",
      "Data columns (total 64 columns):\n",
      " #   Column                   Non-Null Count   Dtype  \n",
      "---  ------                   --------------   -----  \n",
      " 0   Id                       143177 non-null  int64  \n",
      " 1   SaleDate                 143177 non-null  object \n",
      " 2   SaleDeed                 143177 non-null  int64  \n",
      " 3   ArmsLengthTransaction    143177 non-null  int64  \n",
      " 4   EstimateLand             143177 non-null  int64  \n",
      " 5   EstimateBuilding         143177 non-null  int64  \n",
      " 6   MostRecentSale           143080 non-null  float64\n",
      " 7   Pin                      143177 non-null  int64  \n",
      " 8   PropertyAddress          141847 non-null  object \n",
      " 9   NeighborhoodCode         143177 non-null  int64  \n",
      " 10  TownshipLocation         143177 non-null  object \n",
      " 11  TownshipName             143177 non-null  object \n",
      " 12  Longitude                141048 non-null  float64\n",
      " 13  Latitude                 141048 non-null  float64\n",
      " 14  OHareNoise               141048 non-null  float64\n",
      " 15  Floodplain               141048 non-null  float64\n",
      " 16  RoadProximity            141048 non-null  float64\n",
      " 17  CensusTract              141048 non-null  float64\n",
      " 18  PropertyDesc             143177 non-null  object \n",
      " 19  Apartments               99106 non-null   float64\n",
      " 20  Age                      143177 non-null  int64  \n",
      " 21  TypeOfResidence          99106 non-null   float64\n",
      " 22  MultiPropertyIndicator   143177 non-null  int64  \n",
      " 23  MultiFamilyIndicator     143177 non-null  int64  \n",
      " 24  MultiCode                99106 non-null   float64\n",
      " 25  NumberOfCommercialUnits  99106 non-null   float64\n",
      " 26  LandSquareFeet           143177 non-null  float64\n",
      " 27  BuildingSquareFeet       99106 non-null   float64\n",
      " 28  CDU                      11424 non-null   object \n",
      " 29  SiteDesirability         99106 non-null   float64\n",
      " 30  CondoNumberOfUnits       44071 non-null   float64\n",
      " 31  CondoPercentOwnership    44296 non-null   float64\n",
      " 32  CondoStrata              9414 non-null    float64\n",
      " 33  CondoBuildingSquareFeet  1902 non-null    float64\n",
      " 34  Rooms                    99106 non-null   float64\n",
      " 35  Bedrooms                 99106 non-null   float64\n",
      " 36  FullBaths                99106 non-null   float64\n",
      " 37  HalfBaths                99106 non-null   float64\n",
      " 38  Basement                 99106 non-null   object \n",
      " 39  BasementFinish           99106 non-null   object \n",
      " 40  CentralHeating           98836 non-null   object \n",
      " 41  OtherHeating             99106 non-null   object \n",
      " 42  CentralAir               99106 non-null   float64\n",
      " 43  Fireplaces               99106 non-null   float64\n",
      " 44  AtticType                99106 non-null   object \n",
      " 45  AtticFinish              31967 non-null   object \n",
      " 46  WallMaterial             99106 non-null   object \n",
      " 47  RoofMaterial             99106 non-null   object \n",
      " 48  CathedralCeiling         99106 non-null   object \n",
      " 49  DesignPlan               99106 non-null   object \n",
      " 50  ConstructionQuality      99106 non-null   object \n",
      " 51  Renovation               172 non-null     object \n",
      " 52  Porch                    143177 non-null  object \n",
      " 53  OtherImprovements        99106 non-null   float64\n",
      " 54  RepairCondition          99106 non-null   object \n",
      " 55  GarageIndicator          99106 non-null   float64\n",
      " 56  Garage1Size              99106 non-null   float64\n",
      " 57  Garage1Material          99106 non-null   object \n",
      " 58  Garage1Attachment        99106 non-null   object \n",
      " 59  Garage1Area              99106 non-null   object \n",
      " 60  Garage2Size              99106 non-null   float64\n",
      " 61  Garage2Material          99106 non-null   object \n",
      " 62  Garage2Attachment        99106 non-null   object \n",
      " 63  Garage2Area              98967 non-null   object \n",
      "dtypes: float64(28), int64(10), object(26)\n",
      "memory usage: 69.9+ MB\n"
     ]
    }
   ],
   "source": [
    "holdout.info()"
   ]
  },
  {
   "cell_type": "code",
   "execution_count": 10,
   "metadata": {},
   "outputs": [],
   "source": [
    "# To fill missing values\n",
    "holdout['MultiCode']=holdout['MultiCode'].fillna(holdout['MultiCode'].mean())\n",
    "holdout['Rooms']=holdout['Rooms'].fillna(holdout['Rooms'].mean())\n",
    "holdout['FullBaths']=holdout['FullBaths'].fillna(holdout['FullBaths'].mean())\n",
    "holdout['CentralAir']=holdout['CentralAir'].fillna(holdout['CentralAir'].mean())\n",
    "holdout['Garage1Size']=holdout['Garage1Size'].fillna(holdout['Garage1Size'].mean())\n",
    "holdout['Garage2Size']=holdout['Garage2Size'].fillna(holdout['Garage2Size'].mean())"
   ]
  },
  {
   "cell_type": "code",
   "execution_count": 12,
   "metadata": {},
   "outputs": [],
   "source": [
    "holdout['Basement']=holdout['Basement'].fillna(holdout['Basement'].mode()[0])\n",
    "holdout['CentralHeating']=holdout['CentralHeating'].fillna(holdout['CentralHeating'].mode()[0])\n",
    "holdout['AtticType']=holdout['AtticType'].fillna(holdout['AtticType'].mode()[0])\n",
    "holdout['WallMaterial']=holdout['WallMaterial'].fillna(holdout['WallMaterial'].mode()[0])\n",
    "holdout['CathedralCeiling']=holdout['CathedralCeiling'].fillna(holdout['CathedralCeiling'].mode()[0])\n",
    "holdout['ConstructionQuality']=holdout['ConstructionQuality'].fillna(holdout['ConstructionQuality'].mode()[0])\n",
    "holdout['RepairCondition']=holdout['RepairCondition'].fillna(holdout['RepairCondition'].mode()[0])\n",
    "holdout['Garage1Attachment']=holdout['Garage1Attachment'].fillna(holdout['Garage1Attachment'].mode()[0])\n",
    "holdout['Garage2Attachment']=holdout['Garage2Attachment'].fillna(holdout['Garage2Attachment'].mode()[0])"
   ]
  },
  {
   "cell_type": "code",
   "execution_count": 13,
   "metadata": {},
   "outputs": [],
   "source": [
    "holdout.drop(['CDU'],axis=1,inplace=True)\n",
    "holdout.drop(['CondoNumberOfUnits'],axis=1,inplace=True)\n",
    "holdout.drop(['CondoStrata'],axis=1,inplace=True)\n",
    "holdout.drop(['SaleDate'],axis=1,inplace=True)\n",
    "holdout.drop(['SaleDeed'],axis=1,inplace=True)\n",
    "holdout.drop(['PropertyAddress'],axis=1,inplace=True)\n",
    "holdout.drop(['Pin'],axis=1,inplace=True)\n",
    "holdout.drop(['Id'],axis=1,inplace=True)"
   ]
  },
  {
   "cell_type": "code",
   "execution_count": 14,
   "metadata": {},
   "outputs": [
    {
     "data": {
      "text/plain": [
       "<matplotlib.axes._subplots.AxesSubplot at 0x1eb3592a1c0>"
      ]
     },
     "execution_count": 14,
     "metadata": {},
     "output_type": "execute_result"
    },
    {
     "data": {
      "image/png": "[encoded data removed]",
      "text/plain": [
       "<Figure size 432x288 with 1 Axes>"
      ]
     },
     "metadata": {
      "needs_background": "light"
     },
     "output_type": "display_data"
    }
   ],
   "source": [
    "sns.heatmap(holdout.isnull(),yticklabels=False,cbar=False)"
   ]
  },
  {
   "cell_type": "code",
   "execution_count": 15,
   "metadata": {},
   "outputs": [],
   "source": [
    "holdout.drop(['Renovation'],axis=1,inplace=True)\n",
    "holdout.drop(['AtticFinish'],axis=1,inplace=True)\n",
    "holdout.drop(['CondoBuildingSquareFeet'],axis=1,inplace=True)"
   ]
  },
  {
   "cell_type": "code",
   "execution_count": 16,
   "metadata": {},
   "outputs": [
    {
     "data": {
      "text/plain": [
       "<matplotlib.axes._subplots.AxesSubplot at 0x1eb3ad6b8e0>"
      ]
     },
     "execution_count": 16,
     "metadata": {},
     "output_type": "execute_result"
    },
    {
     "data": {
      "image/png": "[encoded data removed]",
      "text/plain": [
       "<Figure size 432x288 with 1 Axes>"
      ]
     },
     "metadata": {
      "needs_background": "light"
     },
     "output_type": "display_data"
    }
   ],
   "source": [
    "sns.heatmap(holdout.isnull(),yticklabels=False,cbar=False)"
   ]
  },
  {
   "cell_type": "code",
   "execution_count": 18,
   "metadata": {},
   "outputs": [],
   "source": [
    "holdout['SiteDesirability']=holdout['SiteDesirability'].fillna(holdout['SiteDesirability'].mean())"
   ]
  },
  {
   "cell_type": "code",
   "execution_count": 19,
   "metadata": {},
   "outputs": [],
   "source": [
    "holdout['DesignPlan']=holdout['DesignPlan'].fillna(holdout['DesignPlan'].mode()[0])\n",
    "holdout['RoofMaterial']=holdout['RoofMaterial'].fillna(holdout['RoofMaterial'].mode()[0])"
   ]
  },
  {
   "cell_type": "code",
   "execution_count": 20,
   "metadata": {},
   "outputs": [
    {
     "data": {
      "text/plain": [
       "<matplotlib.axes._subplots.AxesSubplot at 0x1eb365589a0>"
      ]
     },
     "execution_count": 20,
     "metadata": {},
     "output_type": "execute_result"
    },
    {
     "data": {
      "image/png": "[encoded data removed]",
      "text/plain": [
       "<Figure size 432x288 with 1 Axes>"
      ]
     },
     "metadata": {
      "needs_background": "light"
     },
     "output_type": "display_data"
    }
   ],
   "source": [
    "sns.heatmap(holdout.isnull(),yticklabels=False,cbar=False)"
   ]
  },
  {
   "cell_type": "code",
   "execution_count": 21,
   "metadata": {},
   "outputs": [
    {
     "data": {
      "text/plain": [
       "(143177, 53)"
      ]
     },
     "execution_count": 21,
     "metadata": {},
     "output_type": "execute_result"
    }
   ],
   "source": [
    "holdout.shape"
   ]
  },
  {
   "cell_type": "code",
   "execution_count": 22,
   "metadata": {},
   "outputs": [
    {
     "data": {
      "text/plain": [
       "ArmsLengthTransaction          0\n",
       "EstimateLand                   0\n",
       "EstimateBuilding               0\n",
       "MostRecentSale                97\n",
       "NeighborhoodCode               0\n",
       "TownshipLocation               0\n",
       "TownshipName                   0\n",
       "Longitude                   2129\n",
       "Latitude                    2129\n",
       "OHareNoise                  2129\n",
       "Floodplain                  2129\n",
       "RoadProximity               2129\n",
       "CensusTract                 2129\n",
       "PropertyDesc                   0\n",
       "Apartments                 44071\n",
       "Age                            0\n",
       "TypeOfResidence            44071\n",
       "MultiPropertyIndicator         0\n",
       "MultiFamilyIndicator           0\n",
       "MultiCode                      0\n",
       "NumberOfCommercialUnits    44071\n",
       "LandSquareFeet                 0\n",
       "BuildingSquareFeet         44071\n",
       "SiteDesirability               0\n",
       "CondoPercentOwnership      98881\n",
       "Rooms                          0\n",
       "Bedrooms                   44071\n",
       "FullBaths                      0\n",
       "HalfBaths                  44071\n",
       "Basement                       0\n",
       "BasementFinish             44071\n",
       "CentralHeating                 0\n",
       "OtherHeating               44071\n",
       "CentralAir                     0\n",
       "Fireplaces                 44071\n",
       "AtticType                      0\n",
       "WallMaterial                   0\n",
       "RoofMaterial                   0\n",
       "CathedralCeiling               0\n",
       "DesignPlan                     0\n",
       "ConstructionQuality            0\n",
       "Porch                          0\n",
       "OtherImprovements          44071\n",
       "RepairCondition                0\n",
       "GarageIndicator            44071\n",
       "Garage1Size                    0\n",
       "Garage1Material            44071\n",
       "Garage1Attachment              0\n",
       "Garage1Area                44071\n",
       "Garage2Size                    0\n",
       "Garage2Material            44071\n",
       "Garage2Attachment              0\n",
       "Garage2Area                44210\n",
       "dtype: int64"
      ]
     },
     "execution_count": 22,
     "metadata": {},
     "output_type": "execute_result"
    }
   ],
   "source": [
    "holdout.isnull().sum()"
   ]
  },
  {
   "cell_type": "code",
   "execution_count": 23,
   "metadata": {},
   "outputs": [],
   "source": [
    "# To fill missing values\n",
    "holdout['MostRecentSale']=holdout['MostRecentSale'].fillna(holdout['MostRecentSale'].mean())\n",
    "holdout['Longitude']=holdout['Longitude'].fillna(holdout['Longitude'].mean())\n",
    "holdout['Latitude']=holdout['Latitude'].fillna(holdout['Latitude'].mean())\n",
    "holdout['OHareNoise']=holdout['OHareNoise'].fillna(holdout['OHareNoise'].mean())\n",
    "holdout['Floodplain']=holdout['Floodplain'].fillna(holdout['Floodplain'].mean())\n",
    "holdout['RoadProximity']=holdout['RoadProximity'].fillna(holdout['RoadProximity'].mean())\n",
    "holdout['CensusTract']=holdout['CensusTract'].fillna(holdout['CensusTract'].mean())\n",
    "holdout['Apartments']=holdout['Apartments'].fillna(holdout['Apartments'].mean())\n",
    "holdout['TypeOfResidence']=holdout['TypeOfResidence'].fillna(holdout['TypeOfResidence'].mean())\n",
    "holdout['NumberOfCommercialUnits']=holdout['NumberOfCommercialUnits'].fillna(holdout['NumberOfCommercialUnits'].mean())\n",
    "holdout['BuildingSquareFeet']=holdout['BuildingSquareFeet'].fillna(holdout['BuildingSquareFeet'].mean())\n",
    "holdout['CondoPercentOwnership']=holdout['CondoPercentOwnership'].fillna(holdout['CondoPercentOwnership'].mean())\n",
    "holdout['Bedrooms']=holdout['Bedrooms'].fillna(holdout['Bedrooms'].mean())\n",
    "holdout['HalfBaths']=holdout['HalfBaths'].fillna(holdout['HalfBaths'].mean())\n",
    "holdout['Fireplaces']=holdout['Fireplaces'].fillna(holdout['Fireplaces'].mean())\n",
    "holdout['OtherImprovements']=holdout['OtherImprovements'].fillna(holdout['OtherImprovements'].mean())\n",
    "holdout['GarageIndicator']=holdout['GarageIndicator'].fillna(holdout['GarageIndicator'].mean())"
   ]
  },
  {
   "cell_type": "code",
   "execution_count": 25,
   "metadata": {},
   "outputs": [],
   "source": [
    "holdout['BasementFinish']=holdout['BasementFinish'].fillna(holdout['BasementFinish'].mode()[0])\n",
    "holdout['OtherHeating']=holdout['OtherHeating'].fillna(holdout['OtherHeating'].mode()[0])\n",
    "holdout['Garage1Material']=holdout['Garage1Material'].fillna(holdout['Garage1Material'].mode()[0])\n",
    "holdout['Garage1Area']=holdout['Garage1Area'].fillna(holdout['Garage1Area'].mode()[0])\n",
    "holdout['Garage2Material']=holdout['Garage2Material'].fillna(holdout['Garage2Material'].mode()[0])\n",
    "holdout['Garage2Area']=holdout['Garage2Area'].fillna(holdout['Garage2Area'].mode()[0])"
   ]
  },
  {
   "cell_type": "code",
   "execution_count": 26,
   "metadata": {},
   "outputs": [
    {
     "data": {
      "text/plain": [
       "ArmsLengthTransaction      0\n",
       "EstimateLand               0\n",
       "EstimateBuilding           0\n",
       "MostRecentSale             0\n",
       "NeighborhoodCode           0\n",
       "TownshipLocation           0\n",
       "TownshipName               0\n",
       "Longitude                  0\n",
       "Latitude                   0\n",
       "OHareNoise                 0\n",
       "Floodplain                 0\n",
       "RoadProximity              0\n",
       "CensusTract                0\n",
       "PropertyDesc               0\n",
       "Apartments                 0\n",
       "Age                        0\n",
       "TypeOfResidence            0\n",
       "MultiPropertyIndicator     0\n",
       "MultiFamilyIndicator       0\n",
       "MultiCode                  0\n",
       "NumberOfCommercialUnits    0\n",
       "LandSquareFeet             0\n",
       "BuildingSquareFeet         0\n",
       "SiteDesirability           0\n",
       "CondoPercentOwnership      0\n",
       "Rooms                      0\n",
       "Bedrooms                   0\n",
       "FullBaths                  0\n",
       "HalfBaths                  0\n",
       "Basement                   0\n",
       "BasementFinish             0\n",
       "CentralHeating             0\n",
       "OtherHeating               0\n",
       "CentralAir                 0\n",
       "Fireplaces                 0\n",
       "AtticType                  0\n",
       "WallMaterial               0\n",
       "RoofMaterial               0\n",
       "CathedralCeiling           0\n",
       "DesignPlan                 0\n",
       "ConstructionQuality        0\n",
       "Porch                      0\n",
       "OtherImprovements          0\n",
       "RepairCondition            0\n",
       "GarageIndicator            0\n",
       "Garage1Size                0\n",
       "Garage1Material            0\n",
       "Garage1Attachment          0\n",
       "Garage1Area                0\n",
       "Garage2Size                0\n",
       "Garage2Material            0\n",
       "Garage2Attachment          0\n",
       "Garage2Area                0\n",
       "dtype: int64"
      ]
     },
     "execution_count": 26,
     "metadata": {},
     "output_type": "execute_result"
    }
   ],
   "source": [
    "holdout.isnull().sum()"
   ]
  },
  {
   "cell_type": "code",
   "execution_count": 27,
   "metadata": {},
   "outputs": [
    {
     "data": {
      "text/plain": [
       "<matplotlib.axes._subplots.AxesSubplot at 0x1eb36558f40>"
      ]
     },
     "execution_count": 27,
     "metadata": {},
     "output_type": "execute_result"
    },
    {
     "data": {
      "image/png": "[encoded data removed]",
      "text/plain": [
       "<Figure size 432x288 with 1 Axes>"
      ]
     },
     "metadata": {
      "needs_background": "light"
     },
     "output_type": "display_data"
    }
   ],
   "source": [
    "sns.heatmap(holdout.isnull(),yticklabels=False,cbar=False)"
   ]
  },
  {
   "cell_type": "code",
   "execution_count": 28,
   "metadata": {},
   "outputs": [
    {
     "data": {
      "text/plain": [
       "(143177, 53)"
      ]
     },
     "execution_count": 28,
     "metadata": {},
     "output_type": "execute_result"
    }
   ],
   "source": [
    "holdout.shape"
   ]
  },
  {
   "cell_type": "code",
   "execution_count": 29,
   "metadata": {},
   "outputs": [
    {
     "data": {
      "text/html": [
       "<div>\n",
       "<style scoped>\n",
       "    .dataframe tbody tr th:only-of-type {\n",
       "        vertical-align: middle;\n",
       "    }\n",
       "\n",
       "    .dataframe tbody tr th {\n",
       "        vertical-align: top;\n",
       "    }\n",
       "\n",
       "    .dataframe thead th {\n",
       "        text-align: right;\n",
       "    }\n",
       "</style>\n",
       "<table border=\"1\" class=\"dataframe\">\n",
       "  <thead>\n",
       "    <tr style=\"text-align: right;\">\n",
       "      <th></th>\n",
       "      <th>ArmsLengthTransaction</th>\n",
       "      <th>EstimateLand</th>\n",
       "      <th>EstimateBuilding</th>\n",
       "      <th>MostRecentSale</th>\n",
       "      <th>NeighborhoodCode</th>\n",
       "      <th>TownshipLocation</th>\n",
       "      <th>TownshipName</th>\n",
       "      <th>Longitude</th>\n",
       "      <th>Latitude</th>\n",
       "      <th>OHareNoise</th>\n",
       "      <th>...</th>\n",
       "      <th>RepairCondition</th>\n",
       "      <th>GarageIndicator</th>\n",
       "      <th>Garage1Size</th>\n",
       "      <th>Garage1Material</th>\n",
       "      <th>Garage1Attachment</th>\n",
       "      <th>Garage1Area</th>\n",
       "      <th>Garage2Size</th>\n",
       "      <th>Garage2Material</th>\n",
       "      <th>Garage2Attachment</th>\n",
       "      <th>Garage2Area</th>\n",
       "    </tr>\n",
       "  </thead>\n",
       "  <tbody>\n",
       "    <tr>\n",
       "      <th>0</th>\n",
       "      <td>1</td>\n",
       "      <td>37500</td>\n",
       "      <td>239610</td>\n",
       "      <td>1.0</td>\n",
       "      <td>60</td>\n",
       "      <td>City</td>\n",
       "      <td>Jefferson</td>\n",
       "      <td>-87.752573</td>\n",
       "      <td>41.971884</td>\n",
       "      <td>0.000000</td>\n",
       "      <td>...</td>\n",
       "      <td>Avg</td>\n",
       "      <td>0.00000</td>\n",
       "      <td>0.00000</td>\n",
       "      <td>Other</td>\n",
       "      <td>Other</td>\n",
       "      <td>Other1</td>\n",
       "      <td>7.000000</td>\n",
       "      <td>Other</td>\n",
       "      <td>Other</td>\n",
       "      <td>Other1</td>\n",
       "    </tr>\n",
       "    <tr>\n",
       "      <th>1</th>\n",
       "      <td>1</td>\n",
       "      <td>17520</td>\n",
       "      <td>102490</td>\n",
       "      <td>1.0</td>\n",
       "      <td>40</td>\n",
       "      <td>South</td>\n",
       "      <td>Orland</td>\n",
       "      <td>-87.828905</td>\n",
       "      <td>41.597308</td>\n",
       "      <td>0.000000</td>\n",
       "      <td>...</td>\n",
       "      <td>Avg</td>\n",
       "      <td>0.83778</td>\n",
       "      <td>2.28186</td>\n",
       "      <td>Wood</td>\n",
       "      <td>No</td>\n",
       "      <td>No</td>\n",
       "      <td>6.997679</td>\n",
       "      <td>Other</td>\n",
       "      <td>Other</td>\n",
       "      <td>Other1</td>\n",
       "    </tr>\n",
       "    <tr>\n",
       "      <th>2</th>\n",
       "      <td>1</td>\n",
       "      <td>30450</td>\n",
       "      <td>104790</td>\n",
       "      <td>1.0</td>\n",
       "      <td>72</td>\n",
       "      <td>South</td>\n",
       "      <td>Bloom</td>\n",
       "      <td>-87.554708</td>\n",
       "      <td>41.533171</td>\n",
       "      <td>0.000000</td>\n",
       "      <td>...</td>\n",
       "      <td>Avg</td>\n",
       "      <td>1.00000</td>\n",
       "      <td>3.00000</td>\n",
       "      <td>Masonry</td>\n",
       "      <td>No</td>\n",
       "      <td>No</td>\n",
       "      <td>7.000000</td>\n",
       "      <td>Other</td>\n",
       "      <td>Other</td>\n",
       "      <td>Other1</td>\n",
       "    </tr>\n",
       "    <tr>\n",
       "      <th>3</th>\n",
       "      <td>1</td>\n",
       "      <td>600</td>\n",
       "      <td>93840</td>\n",
       "      <td>0.0</td>\n",
       "      <td>10</td>\n",
       "      <td>City</td>\n",
       "      <td>South Chicago</td>\n",
       "      <td>-87.773778</td>\n",
       "      <td>41.878031</td>\n",
       "      <td>0.013336</td>\n",
       "      <td>...</td>\n",
       "      <td>Avg</td>\n",
       "      <td>0.83778</td>\n",
       "      <td>2.28186</td>\n",
       "      <td>Wood</td>\n",
       "      <td>No</td>\n",
       "      <td>No</td>\n",
       "      <td>6.997679</td>\n",
       "      <td>Other</td>\n",
       "      <td>Other</td>\n",
       "      <td>Other1</td>\n",
       "    </tr>\n",
       "    <tr>\n",
       "      <th>4</th>\n",
       "      <td>1</td>\n",
       "      <td>69300</td>\n",
       "      <td>377170</td>\n",
       "      <td>0.0</td>\n",
       "      <td>40</td>\n",
       "      <td>North</td>\n",
       "      <td>Wheeling</td>\n",
       "      <td>-87.973532</td>\n",
       "      <td>42.118017</td>\n",
       "      <td>0.000000</td>\n",
       "      <td>...</td>\n",
       "      <td>Avg</td>\n",
       "      <td>1.00000</td>\n",
       "      <td>3.00000</td>\n",
       "      <td>Wood&amp;Masonry</td>\n",
       "      <td>Yes</td>\n",
       "      <td>No</td>\n",
       "      <td>7.000000</td>\n",
       "      <td>Other</td>\n",
       "      <td>Other</td>\n",
       "      <td>Other1</td>\n",
       "    </tr>\n",
       "  </tbody>\n",
       "</table>\n",
       "<p>5 rows × 53 columns</p>\n",
       "</div>"
      ],
      "text/plain": [
       "   ArmsLengthTransaction  EstimateLand  EstimateBuilding  MostRecentSale  \\\n",
       "0                      1         37500            239610             1.0   \n",
       "1                      1         17520            102490             1.0   \n",
       "2                      1         30450            104790             1.0   \n",
       "3                      1           600             93840             0.0   \n",
       "4                      1         69300            377170             0.0   \n",
       "\n",
       "   NeighborhoodCode TownshipLocation   TownshipName  Longitude   Latitude  \\\n",
       "0                60             City      Jefferson -87.752573  41.971884   \n",
       "1                40            South         Orland -87.828905  41.597308   \n",
       "2                72            South          Bloom -87.554708  41.533171   \n",
       "3                10             City  South Chicago -87.773778  41.878031   \n",
       "4                40            North       Wheeling -87.973532  42.118017   \n",
       "\n",
       "   OHareNoise  ...  RepairCondition  GarageIndicator  Garage1Size  \\\n",
       "0    0.000000  ...              Avg          0.00000      0.00000   \n",
       "1    0.000000  ...              Avg          0.83778      2.28186   \n",
       "2    0.000000  ...              Avg          1.00000      3.00000   \n",
       "3    0.013336  ...              Avg          0.83778      2.28186   \n",
       "4    0.000000  ...              Avg          1.00000      3.00000   \n",
       "\n",
       "  Garage1Material  Garage1Attachment  Garage1Area  Garage2Size  \\\n",
       "0           Other              Other       Other1     7.000000   \n",
       "1            Wood                 No           No     6.997679   \n",
       "2         Masonry                 No           No     7.000000   \n",
       "3            Wood                 No           No     6.997679   \n",
       "4    Wood&Masonry                Yes           No     7.000000   \n",
       "\n",
       "   Garage2Material  Garage2Attachment  Garage2Area  \n",
       "0            Other              Other       Other1  \n",
       "1            Other              Other       Other1  \n",
       "2            Other              Other       Other1  \n",
       "3            Other              Other       Other1  \n",
       "4            Other              Other       Other1  \n",
       "\n",
       "[5 rows x 53 columns]"
      ]
     },
     "execution_count": 29,
     "metadata": {},
     "output_type": "execute_result"
    }
   ],
   "source": [
    "holdout.head()"
   ]
  },
  {
   "cell_type": "code",
   "execution_count": 30,
   "metadata": {},
   "outputs": [
    {
     "name": "stdout",
     "output_type": "stream",
     "text": [
      "<class 'pandas.core.frame.DataFrame'>\n",
      "RangeIndex: 143177 entries, 0 to 143176\n",
      "Data columns (total 53 columns):\n",
      " #   Column                   Non-Null Count   Dtype  \n",
      "---  ------                   --------------   -----  \n",
      " 0   ArmsLengthTransaction    143177 non-null  int64  \n",
      " 1   EstimateLand             143177 non-null  int64  \n",
      " 2   EstimateBuilding         143177 non-null  int64  \n",
      " 3   MostRecentSale           143177 non-null  float64\n",
      " 4   NeighborhoodCode         143177 non-null  int64  \n",
      " 5   TownshipLocation         143177 non-null  object \n",
      " 6   TownshipName             143177 non-null  object \n",
      " 7   Longitude                143177 non-null  float64\n",
      " 8   Latitude                 143177 non-null  float64\n",
      " 9   OHareNoise               143177 non-null  float64\n",
      " 10  Floodplain               143177 non-null  float64\n",
      " 11  RoadProximity            143177 non-null  float64\n",
      " 12  CensusTract              143177 non-null  float64\n",
      " 13  PropertyDesc             143177 non-null  object \n",
      " 14  Apartments               143177 non-null  float64\n",
      " 15  Age                      143177 non-null  int64  \n",
      " 16  TypeOfResidence          143177 non-null  float64\n",
      " 17  MultiPropertyIndicator   143177 non-null  int64  \n",
      " 18  MultiFamilyIndicator     143177 non-null  int64  \n",
      " 19  MultiCode                143177 non-null  float64\n",
      " 20  NumberOfCommercialUnits  143177 non-null  float64\n",
      " 21  LandSquareFeet           143177 non-null  float64\n",
      " 22  BuildingSquareFeet       143177 non-null  float64\n",
      " 23  SiteDesirability         143177 non-null  float64\n",
      " 24  CondoPercentOwnership    143177 non-null  float64\n",
      " 25  Rooms                    143177 non-null  float64\n",
      " 26  Bedrooms                 143177 non-null  float64\n",
      " 27  FullBaths                143177 non-null  float64\n",
      " 28  HalfBaths                143177 non-null  float64\n",
      " 29  Basement                 143177 non-null  object \n",
      " 30  BasementFinish           143177 non-null  object \n",
      " 31  CentralHeating           143177 non-null  object \n",
      " 32  OtherHeating             143177 non-null  object \n",
      " 33  CentralAir               143177 non-null  float64\n",
      " 34  Fireplaces               143177 non-null  float64\n",
      " 35  AtticType                143177 non-null  object \n",
      " 36  WallMaterial             143177 non-null  object \n",
      " 37  RoofMaterial             143177 non-null  object \n",
      " 38  CathedralCeiling         143177 non-null  object \n",
      " 39  DesignPlan               143177 non-null  object \n",
      " 40  ConstructionQuality      143177 non-null  object \n",
      " 41  Porch                    143177 non-null  object \n",
      " 42  OtherImprovements        143177 non-null  float64\n",
      " 43  RepairCondition          143177 non-null  object \n",
      " 44  GarageIndicator          143177 non-null  float64\n",
      " 45  Garage1Size              143177 non-null  float64\n",
      " 46  Garage1Material          143177 non-null  object \n",
      " 47  Garage1Attachment        143177 non-null  object \n",
      " 48  Garage1Area              143177 non-null  object \n",
      " 49  Garage2Size              143177 non-null  float64\n",
      " 50  Garage2Material          143177 non-null  object \n",
      " 51  Garage2Attachment        143177 non-null  object \n",
      " 52  Garage2Area              143177 non-null  object \n",
      "dtypes: float64(25), int64(7), object(21)\n",
      "memory usage: 57.9+ MB\n"
     ]
    }
   ],
   "source": [
    "holdout.info()"
   ]
  },
  {
   "cell_type": "code",
   "execution_count": 31,
   "metadata": {},
   "outputs": [],
   "source": [
    "# Convert this into the csv file\n",
    "holdout.to_csv('formulatedtest.csv',index=False)"
   ]
  },
  {
   "cell_type": "code",
   "execution_count": null,
   "metadata": {},
   "outputs": [],
   "source": []
  }
 ],
 "metadata": {
  "kernelspec": {
   "display_name": "Python 3",
   "language": "python",
   "name": "python3"
  },
  "language_info": {
   "codemirror_mode": {
    "name": "ipython",
    "version": 3
   },
   "file_extension": ".py",
   "mimetype": "text/x-python",
   "name": "python",
   "nbconvert_exporter": "python",
   "pygments_lexer": "ipython3",
   "version": "3.8.3"
  }
 },
 "nbformat": 4,
 "nbformat_minor": 4
}
